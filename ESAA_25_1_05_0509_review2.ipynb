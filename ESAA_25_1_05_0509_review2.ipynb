{
  "nbformat": 4,
  "nbformat_minor": 0,
  "metadata": {
    "colab": {
      "provenance": [],
      "authorship_tag": "ABX9TyNhEWrZmNdUnyHleGA4ZhpW",
      "include_colab_link": true
    },
    "kernelspec": {
      "name": "python3",
      "display_name": "Python 3"
    },
    "language_info": {
      "name": "python"
    }
  },
  "cells": [
    {
      "cell_type": "markdown",
      "metadata": {
        "id": "view-in-github",
        "colab_type": "text"
      },
      "source": [
        "<a href=\"https://colab.research.google.com/github/Chang365/ESAA-25-1-assignments/blob/main/ESAA_25_1_05_0509_review2.ipynb\" target=\"_parent\"><img src=\"https://colab.research.google.com/assets/colab-badge.svg\" alt=\"Open In Colab\"/></a>"
      ]
    },
    {
      "cell_type": "markdown",
      "source": [
        "# 수상작 리뷰 2\n",
        "\n",
        "##대회명: Regression of Used Car Prices (Playground Series - Season 4, Episode 9)\n",
        "## 수상작 노트북: Top 9% Solution - LGBM + CatBoost 앙상블\n",
        "목표: 다양한 차량 특성 데이터를 기반으로 중고차의 가격을 예측하는 회귀 문제\n",
        "\n",
        "\n",
        "---\n",
        "\n",
        "\n",
        "### 데이터 구성:\n",
        "- train.csv, test.csv\n",
        "- 주요 특성: 브랜드, 연식, 연료 타입, 주행 거리, 변속기 등\n",
        "- 목표 변수: price (중고차 판매가)\n",
        "\n",
        "\n",
        "\n",
        "---\n",
        "### 코드 흐름 요약\n",
        "(1) EDA\n",
        "\n",
        "- price 분포 log 변환 → 왜도 완화\n",
        "\n",
        "- 차종별 평균 가격, 연식별 가격 변화 시각화\n",
        "\n",
        "- 결측치 거의 없음 → 간단한 채움 처리\n",
        "\n",
        "(2) Feature Engineering\n",
        "\n",
        "- 범주형 변수는 CatBoostEncoder 또는 LabelEncoding\n",
        "\n",
        "- car_age = 현재 연도 - 제조 연도 파생 변수 생성\n",
        "\n",
        "- 일부 변수 조합: brand_model, transmission_fuel\n",
        "\n",
        "(3) 모델링\n",
        "\n",
        "- LGBMRegressor & CatBoostRegressor 훈련\n",
        "\n",
        "- KFold(5) 교차검증 적용\n",
        "\n",
        "- 두 모델의 예측값 평균 → 앙상블 결과 생성\n",
        "\n",
        "(4) 평가 및 제출\n",
        "\n",
        "- 평가 지표: RMSE (Root Mean Squared Error)\n",
        "\n",
        "- 교차검증 score 평균: 약 62900\n",
        "\n",
        "- Private leaderboard 기준 상위 9% 달성\n",
        "\n",
        "\n",
        "---\n",
        "### 차별점 및 인사이트\n",
        "\n",
        "- 복수 모델 앙상블을 통해 개별 모델보다 안정된 성능 확보\n",
        "\n",
        "- 카테고리형 변수 인코딩 방식 선택이 성능에 큰 영향\n",
        "\n",
        "- 데이터가 잘 정제된 경우, 복잡한 전처리 없이도 모델 성능 높일 수 있음\n",
        "\n",
        "- 실제 중고차 가격 예측 서비스나 플랫폼에도 응용 가능한 구조임\n"
      ],
      "metadata": {
        "id": "LSKzvNvfnOQ1"
      }
    }
  ]
}