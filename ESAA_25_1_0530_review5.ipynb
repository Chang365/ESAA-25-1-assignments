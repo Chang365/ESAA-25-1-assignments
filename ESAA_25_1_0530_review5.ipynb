{
  "nbformat": 4,
  "nbformat_minor": 0,
  "metadata": {
    "colab": {
      "provenance": [],
      "authorship_tag": "ABX9TyMxmlgJDKDKr6bh9ovBfGdI",
      "include_colab_link": true
    },
    "kernelspec": {
      "name": "python3",
      "display_name": "Python 3"
    },
    "language_info": {
      "name": "python"
    }
  },
  "cells": [
    {
      "cell_type": "markdown",
      "metadata": {
        "id": "view-in-github",
        "colab_type": "text"
      },
      "source": [
        "<a href=\"https://colab.research.google.com/github/Chang365/ESAA-25-1-assignments/blob/main/ESAA_25_1_0530_review5.ipynb\" target=\"_parent\"><img src=\"https://colab.research.google.com/assets/colab-badge.svg\" alt=\"Open In Colab\"/></a>"
      ]
    },
    {
      "cell_type": "markdown",
      "source": [
        "#수상작 리뷰5\n",
        "## 대회명: Google Brain - Ventilator Pressure Prediction (Kaggle)\n",
        "## 수상작 노트북: 1D-CNN 기반 Deep Learning 솔루션 (Private LB Top 3%)\n",
        "## 목표: 인공호흡기 제어 시, 특정 시간의 압력 값을 예측하는 시계열 회귀 문제\n",
        "# 데이터 구성\n",
        "- 시계열 형태의 시뮬레이션 데이터 (train.csv, test.csv)\n",
        "- 입력변수: R, C (저항, 순응도), u_in (흡기 유량), u_out (흡기 종료 신호), time_step\n",
        "- 타깃변수: pressure (호흡기 압력)\n",
        "\n",
        "# 코드 흐름 요약\n",
        "(1) 전처리 및 파생 변수\n",
        "- 각 시퀀스(unit sequence)별로 시간 기준 정렬\n",
        "- 파생 변수 생성: 누적 유량(cumsum_u_in), 이동평균(rolling_mean), u_in 변화량 등\n",
        "- R, C는 categorical로 간주하고 One-hot 인코딩 처리\n",
        "\n",
        "(2) 모델링\n",
        "- 1D Convolutional Neural Network 구조 설계\n",
        "- Conv1D → BatchNorm → ReLU → Dropout → Dense\n",
        "- 시퀀스 패턴을 학습하기에 적합\n",
        "- 시퀀스 padding, scaling, window size 조정\n",
        "- KFold + Sequence Grouping을 통해 데이터 누수 방지\n",
        "\n",
        "(3) 평가 및 앙상블\n",
        "- 지표: MAE (Mean Absolute Error)\n",
        "- 다양한 시드 및 모델 아키텍처 앙상블 (평균 or 가중 평균)\n",
        "- Public: 0.196 / Private: 0.194 (Top 3%)\n",
        "\n",
        "#차별점 및 인사이트\n",
        "- 도메인 기반 피처 파생이 성능 향상 핵심 (예: 누적 유량, 압력 이동평균)\n",
        "- 전통 ML보다 **딥러닝(CNN)**이 시계열 구조에 더 적합\n",
        "- 대회 종료 후 실제 논문에 활용된 사례도 존재"
      ],
      "metadata": {
        "id": "jY2SJBOOgiFa"
      }
    }
  ]
}