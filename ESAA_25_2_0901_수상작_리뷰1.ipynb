{
  "nbformat": 4,
  "nbformat_minor": 0,
  "metadata": {
    "colab": {
      "provenance": [],
      "authorship_tag": "ABX9TyM+OqSyq0q9AUsxPzZ/mRvI",
      "include_colab_link": true
    },
    "kernelspec": {
      "name": "python3",
      "display_name": "Python 3"
    },
    "language_info": {
      "name": "python"
    }
  },
  "cells": [
    {
      "cell_type": "markdown",
      "metadata": {
        "id": "view-in-github",
        "colab_type": "text"
      },
      "source": [
        "<a href=\"https://colab.research.google.com/github/Chang365/ESAA-25-1-assignments/blob/main/ESAA_25_2_0901_%EC%88%98%EC%83%81%EC%9E%91_%EB%A6%AC%EB%B7%B01.ipynb\" target=\"_parent\"><img src=\"https://colab.research.google.com/assets/colab-badge.svg\" alt=\"Open In Colab\"/></a>"
      ]
    },
    {
      "cell_type": "markdown",
      "source": [
        "# 0901 수상작 리뷰\n",
        "\n",
        "- 대회명: COVID-19 Global Forecasting Week 5 (Kaggle)\n",
        "- 수상작 노트북: Time Series + External Data 활용 상위 1% 솔루션\n",
        "- 목표: 국가 및 지역별로 향후 며칠 간의 COVID-19 확진자 및 사망자 수를 예측하는 시계열 회귀 문제\n",
        "\n",
        "## 데이터 구성\n",
        "\n",
        "- train.csv, test.csv, submission.csv\n",
        "\n",
        "- 주요 변수:\n",
        "\n",
        "날짜 (Date), 지역 (Country_Region, Province_State),\n",
        "\n",
        "누적 확진자 수 (ConfirmedCases), 누적 사망자 수 (Fatalities)\n",
        "\n",
        "- 타깃 변수:\n",
        "\n",
        "향후 N일 간의 ConfirmedCases, Fatalities\n",
        "\n",
        "## 코드 흐름 요약\n",
        "(1) EDA 및 시계열 구조 이해\n",
        "\n",
        "누적 확진자/사망자 수는 지수적 성장 경향 → 로그 변환 사용\n",
        "\n",
        "각 지역별 전파 패턴 시각화 → 봉쇄 정책, 마스크 의무화 등과 비교 분석\n",
        "\n",
        "데이터 누락 보정: 일부 국가의 데이터 불연속을 smoothing 처리\n",
        "\n",
        "(2) 외부 데이터 통합\n",
        "\n",
        "Google Mobility Data, Weather, Government Policy Index 등 외부 CSV 수집\n",
        "\n",
        "지역별 정책 강도 및 이동 제한 수준을 파생 변수로 생성\n",
        "\n",
        "예: lockdown_days, mobility_drop, testing_rate 등\n",
        "\n",
        "(3) Feature Engineering\n",
        "\n",
        "days_since_first_case, growth_rate, daily_new_cases 등 파생\n",
        "\n",
        "누적값 → 일별 증감값으로 변환\n",
        "\n",
        "타깃 시점까지의 이동평균/증가율 등도 특징으로 포함\n",
        "\n",
        "(4) 모델링\n",
        "\n",
        "LightGBM + Ridge Regression 앙상블\n",
        "\n",
        "국가별 모델/전역 모델 비교 실험\n",
        "\n",
        "Recursive Forecasting (하루씩 예측하며 누적 반영) 방식 사용\n",
        "\n",
        "Weighted RMSE 기반 평가 (Confirmed:Fatalities = 0.5:0.5)\n",
        "\n",
        "## 차별점 및 인사이트\n",
        "\n",
        "외부 도메인 지식을 통합한 것이 성능 향상의 핵심\n",
        "\n",
        "단순히 시계열로 보기보단 의사결정 시스템적 해석 필요\n",
        "\n",
        "국가별/지역별 예외처리 로직이 성능에 큰 영향\n",
        "\n",
        "이후 많은 팬데믹 모델링 연구에서도 참고됨\n",
        "\n",
        "## 실적\n",
        "\n",
        "Public LB: 3위\n",
        "\n",
        "Private LB: Top 1% (0.011x RMSE)\n",
        "\n",
        "대회 종료 후 커널이 20K+ 뷰 기록, 코드가 논문에서도 인용됨"
      ],
      "metadata": {
        "id": "LVb8u6Vk-ygQ"
      }
    }
  ]
}