{
  "nbformat": 4,
  "nbformat_minor": 0,
  "metadata": {
    "colab": {
      "provenance": [],
      "authorship_tag": "ABX9TyP9gbnLghFJXokZKQ3wTtWf",
      "include_colab_link": true
    },
    "kernelspec": {
      "name": "python3",
      "display_name": "Python 3"
    },
    "language_info": {
      "name": "python"
    }
  },
  "cells": [
    {
      "cell_type": "markdown",
      "metadata": {
        "id": "view-in-github",
        "colab_type": "text"
      },
      "source": [
        "<a href=\"https://colab.research.google.com/github/Chang365/ESAA-25-1-assignments/blob/main/ESAA_25_1_0523_review4.ipynb\" target=\"_parent\"><img src=\"https://colab.research.google.com/assets/colab-badge.svg\" alt=\"Open In Colab\"/></a>"
      ]
    },
    {
      "cell_type": "markdown",
      "source": [
        "# 수상작 리뷰 4\n",
        "## 대회명: Binary Classification of Insurance Cross Selling (Playground Series - S4E7)\n",
        "- 수상작 노트북: S04E07 | Insurance Cross Selling | CatBoos\n",
        "\n",
        "## 주제 및 데이터\n",
        "- 목표: 고객의 특성을 기반으로 자동차 보험 상품의 교차 판매 성공 여부를 예측하는 이진 분류 문제\n",
        "\n",
        "- 데이터 구성: train.csv, test.csv\n",
        "- 주요 특성: 연령, 직업, 주거 지역, 차량 소유 여부, 이전 보험 가입 여부 등\n",
        "- 목표 변수: response (1: 구매, 0: 미구매)\n",
        "\n",
        "## 코드 흐름 요약\n",
        "(1) EDA\n",
        "- 범주형 변수와 타겟 변수 간의 관계 시각화\n",
        "\n",
        "- 결측치 및 이상치 확인 및 처리\n",
        "\n",
        "(2) Feature Engineering\n",
        "- 범주형 변수에 대한 Label Encoding 및 One-Hot Encoding 적용\n",
        "\n",
        "- 파생 변수 생성: 예를 들어, 연령대를 그룹화하여 새로운 변수 생성\n",
        "\n",
        "(3) 모델링\n",
        "- CatBoostClassifier를 사용하여 모델 훈련\n",
        "\n",
        "- Stratified K-Fold 교차검증을 통해 모델의 일반화 성능 향상\n",
        "\n",
        "(4) 평가 및 제출\n",
        "- 평가 지표: ROC AUC Score\n",
        "\n",
        "- 교차검증 평균 점수: 약 0.94\n",
        "\n",
        "- 최종 결과: Private Leaderboard 기준 상위 9% 달성\n",
        "\n",
        "## 차별점 및 인사이트\n",
        "- CatBoost 모델을 활용하여 범주형 변수 처리에 강점을 보임\n",
        "\n",
        "- Stratified K-Fold 교차검증을 통해 데이터 불균형 문제 완화\n",
        "\n",
        "- 실제 보험 상품 마케팅 전략 수립에 활용 가능한 모델 구조"
      ],
      "metadata": {
        "id": "SlrhB9sydJUn"
      }
    },
    {
      "cell_type": "code",
      "execution_count": null,
      "metadata": {
        "id": "966vzeh5c3QA"
      },
      "outputs": [],
      "source": []
    }
  ]
}