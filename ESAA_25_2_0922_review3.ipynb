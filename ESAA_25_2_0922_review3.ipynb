{
  "nbformat": 4,
  "nbformat_minor": 0,
  "metadata": {
    "colab": {
      "provenance": [],
      "authorship_tag": "ABX9TyMwrL8MJFqm7XnjswNLoOrJ",
      "include_colab_link": true
    },
    "kernelspec": {
      "name": "python3",
      "display_name": "Python 3"
    },
    "language_info": {
      "name": "python"
    }
  },
  "cells": [
    {
      "cell_type": "markdown",
      "metadata": {
        "id": "view-in-github",
        "colab_type": "text"
      },
      "source": [
        "<a href=\"https://colab.research.google.com/github/Chang365/ESAA-25-1-assignments/blob/main/ESAA_25_2_0922_review3.ipynb\" target=\"_parent\"><img src=\"https://colab.research.google.com/assets/colab-badge.svg\" alt=\"Open In Colab\"/></a>"
      ]
    },
    {
      "cell_type": "markdown",
      "source": [
        "# RSNA Pneumonia Detection Challenge (Kaggle / RSNA)\n"
      ],
      "metadata": {
        "id": "7-bAKSsHCUt1"
      }
    },
    {
      "cell_type": "markdown",
      "source": [
        "## 목표\n",
        "- 흉부 X선(CXR) 영상에서 폐렴 병변이 있는 경우 해당 부위를 bounding box로 찾아내고, 없으면 정상으로 판별하는 객체 탐지(object detection) 과제\n",
        "- 즉, 단순히 “폐렴 있음/없음”을 맞추는 것이 아니라, 병변이 있는 영역의 위치를 탐지하는 것이 포함됨\n",
        "\n"
      ],
      "metadata": {
        "id": "L4AhPfZ9CbKS"
      }
    },
    {
      "cell_type": "markdown",
      "source": [
        "## 수상 솔루션 핵심 전략\n",
        "1. 모델 구조 & 학습 방식: DeepRadiology 팀은 CoupleNet 기반 객체 탐지 모델을 사용함 — 전역(global) 특징 + 지역(local) 특징을 같이 고려하는 구조\n",
        "2. 앙상블: 서로 다른 모델들의 예측을 결합 → 바운딩 박스 병합, 점수 조정 등으로 최종 결과 안정화\n",
        "3. 데이터 전처리: 다양한 augmentation 사용 (flip, contrast 조정, 랜덤 크롭 등)해서 모델의 일반화능력 높임\n",
        "4. 바운딩 박스 합치기: 여러 모델에서 나오는 박스를 병합하고, 중복 박스 제거, score 조정, Non Maximum Suppression (NMS) 등을 정교하게 조정함\n",
        "5. 검증전략: 다양한 기관(병원)에서 촬영된 영상의 차이를 고려하여 validation set 나누는 방식 적용\n",
        "\n"
      ],
      "metadata": {
        "id": "dQXHBQQiCgGL"
      }
    },
    {
      "cell_type": "markdown",
      "source": [
        "## 특징 및 한계\n",
        "- 전역 + 지역 정보 융합하는 탐지 구조가 강점: 단순히 지역 특징만 보는 것보다 더 안정적인 탐지 가능\n",
        "- 앙상블과 후처리에 성능 많이 의존됨 — 하나의 모델만으로는 안정적인 상위권 달성 어려움\n",
        "- 다양한 해상도/scale 실험이 유리 — 병변 크기가 다양해서 한 크기만 보면 놓침\n",
        "- 데이터의 레이블 노이즈나 오차 (boundary annotation 불확실성 등) 문제 있음 — 모델이 과하게 작은 박스나 잘못된 위치를 예측할 위험 존재"
      ],
      "metadata": {
        "id": "7p9hBPd1C2na"
      }
    }
  ]
}