{
  "nbformat": 4,
  "nbformat_minor": 5,
  "metadata": {
    "colab": {
      "provenance": [],
      "include_colab_link": true
    },
    "language_info": {
      "name": "python"
    },
    "kernelspec": {
      "name": "python3",
      "display_name": "Python 3"
    }
  },
  "cells": [
    {
      "cell_type": "markdown",
      "metadata": {
        "id": "view-in-github",
        "colab_type": "text"
      },
      "source": [
        "<a href=\"https://colab.research.google.com/github/Chang365/ESAA-25-1-assignments/blob/main/ESAA_YB_WEEK1_assignment.ipynb\" target=\"_parent\"><img src=\"https://colab.research.google.com/assets/colab-badge.svg\" alt=\"Open In Colab\"/></a>"
      ]
    },
    {
      "cell_type": "markdown",
      "metadata": {
        "id": "bf79c78b"
      },
      "source": [
        "# Numpy exercises\n",
        "\n",
        "This is a collection of exercises that have been collected in the numpy mailing list, on stack overflow\n",
        "and in the numpy documentation. The goal of this collection is to offer a quick reference for both old\n",
        "and new users but also to provide a set of exercises for those who teach.\n",
        "\n",
        "\n",
        "If you find an error or think you've a better way to solve some of them, feel\n",
        "free to open an issue at <https://github.com/rougier/numpy-100>."
      ],
      "id": "bf79c78b"
    },
    {
      "cell_type": "markdown",
      "metadata": {
        "id": "8536e059"
      },
      "source": [
        "File automatically generated. See the documentation to update questions/answers/hints programmatically."
      ],
      "id": "8536e059"
    },
    {
      "cell_type": "markdown",
      "metadata": {
        "id": "017db353"
      },
      "source": [
        "#### 1. Import the numpy package under the name `np` (★☆☆)"
      ],
      "id": "017db353"
    },
    {
      "cell_type": "code",
      "metadata": {
        "id": "68182a76"
      },
      "source": [
        "import numpy as np"
      ],
      "id": "68182a76",
      "execution_count": null,
      "outputs": []
    },
    {
      "cell_type": "markdown",
      "metadata": {
        "id": "46950f4f"
      },
      "source": [
        "#### 2. Print the numpy version and the configuration (★☆☆)"
      ],
      "id": "46950f4f"
    },
    {
      "cell_type": "code",
      "source": [
        "print(np.version)\n",
        "print(np.show_config())"
      ],
      "metadata": {
        "id": "T2NNljuPNL8z",
        "colab": {
          "base_uri": "https://localhost:8080/"
        },
        "outputId": "6f09faac-9770-4971-cae7-f61493c44b20"
      },
      "id": "T2NNljuPNL8z",
      "execution_count": null,
      "outputs": [
        {
          "output_type": "stream",
          "name": "stdout",
          "text": [
            "<module 'numpy.version' from '/usr/local/lib/python3.11/dist-packages/numpy/version.py'>\n",
            "Build Dependencies:\n",
            "  blas:\n",
            "    detection method: pkgconfig\n",
            "    found: true\n",
            "    include directory: /usr/local/include\n",
            "    lib directory: /usr/local/lib\n",
            "    name: openblas64\n",
            "    openblas configuration: USE_64BITINT=1 DYNAMIC_ARCH=1 DYNAMIC_OLDER= NO_CBLAS=\n",
            "      NO_LAPACK= NO_LAPACKE= NO_AFFINITY=1 USE_OPENMP= HASWELL MAX_THREADS=2\n",
            "    pc file directory: /usr/local/lib/pkgconfig\n",
            "    version: 0.3.23.dev\n",
            "  lapack:\n",
            "    detection method: internal\n",
            "    found: true\n",
            "    include directory: unknown\n",
            "    lib directory: unknown\n",
            "    name: dep140213194937296\n",
            "    openblas configuration: unknown\n",
            "    pc file directory: unknown\n",
            "    version: 1.26.4\n",
            "Compilers:\n",
            "  c:\n",
            "    args: -fno-strict-aliasing\n",
            "    commands: cc\n",
            "    linker: ld.bfd\n",
            "    linker args: -Wl,--strip-debug, -fno-strict-aliasing\n",
            "    name: gcc\n",
            "    version: 10.2.1\n",
            "  c++:\n",
            "    commands: c++\n",
            "    linker: ld.bfd\n",
            "    linker args: -Wl,--strip-debug\n",
            "    name: gcc\n",
            "    version: 10.2.1\n",
            "  cython:\n",
            "    commands: cython\n",
            "    linker: cython\n",
            "    name: cython\n",
            "    version: 3.0.8\n",
            "Machine Information:\n",
            "  build:\n",
            "    cpu: x86_64\n",
            "    endian: little\n",
            "    family: x86_64\n",
            "    system: linux\n",
            "  host:\n",
            "    cpu: x86_64\n",
            "    endian: little\n",
            "    family: x86_64\n",
            "    system: linux\n",
            "Python Information:\n",
            "  path: /opt/python/cp311-cp311/bin/python\n",
            "  version: '3.11'\n",
            "SIMD Extensions:\n",
            "  baseline:\n",
            "  - SSE\n",
            "  - SSE2\n",
            "  - SSE3\n",
            "  found:\n",
            "  - SSSE3\n",
            "  - SSE41\n",
            "  - POPCNT\n",
            "  - SSE42\n",
            "  - AVX\n",
            "  - F16C\n",
            "  - FMA3\n",
            "  - AVX2\n",
            "  not found:\n",
            "  - AVX512F\n",
            "  - AVX512CD\n",
            "  - AVX512_KNL\n",
            "  - AVX512_KNM\n",
            "  - AVX512_SKX\n",
            "  - AVX512_CLX\n",
            "  - AVX512_CNL\n",
            "  - AVX512_ICL\n",
            "\n",
            "None\n"
          ]
        }
      ]
    },
    {
      "cell_type": "markdown",
      "metadata": {
        "id": "e3c20b3d"
      },
      "source": [
        "#### 3. Create a null vector of size 10 (★☆☆)"
      ],
      "id": "e3c20b3d"
    },
    {
      "cell_type": "code",
      "metadata": {
        "id": "8a758bcf",
        "colab": {
          "base_uri": "https://localhost:8080/"
        },
        "outputId": "acdbf64b-3d6d-4218-ac2d-a4daa8aad8dc"
      },
      "source": [
        "null_vector = np.zeros(10)\n",
        "print(null_vector)"
      ],
      "id": "8a758bcf",
      "execution_count": null,
      "outputs": [
        {
          "output_type": "stream",
          "name": "stdout",
          "text": [
            "[0. 0. 0. 0. 0. 0. 0. 0. 0. 0.]\n"
          ]
        }
      ]
    },
    {
      "cell_type": "markdown",
      "metadata": {
        "id": "b15a879f"
      },
      "source": [
        "#### 4. How to find the memory size of any array (★☆☆)"
      ],
      "id": "b15a879f"
    },
    {
      "cell_type": "code",
      "metadata": {
        "id": "1cc3cbc5",
        "colab": {
          "base_uri": "https://localhost:8080/"
        },
        "outputId": "733db0a3-0031-4ca3-b523-b2a7010625fd"
      },
      "source": [
        "print(null_vector.size * null_vector.itemsize)"
      ],
      "id": "1cc3cbc5",
      "execution_count": null,
      "outputs": [
        {
          "output_type": "stream",
          "name": "stdout",
          "text": [
            "80\n"
          ]
        }
      ]
    },
    {
      "cell_type": "markdown",
      "metadata": {
        "id": "0b16cd77"
      },
      "source": [
        "#### 5. Create a null vector of size 10 but the fifth value which is 1 (★☆☆)"
      ],
      "id": "0b16cd77"
    },
    {
      "cell_type": "code",
      "metadata": {
        "id": "4d9b5975",
        "colab": {
          "base_uri": "https://localhost:8080/"
        },
        "outputId": "b8502876-6b83-4169-a929-62676e2e1bcd"
      },
      "source": [
        "null_vector = np.zeros(10)\n",
        "null_vector[4] = 1\n",
        "print(null_vector)"
      ],
      "id": "4d9b5975",
      "execution_count": null,
      "outputs": [
        {
          "output_type": "stream",
          "name": "stdout",
          "text": [
            "[0. 0. 0. 0. 1. 0. 0. 0. 0. 0.]\n"
          ]
        }
      ]
    },
    {
      "cell_type": "markdown",
      "metadata": {
        "id": "782d4c77"
      },
      "source": [
        "#### 6. Create a vector with values ranging from 10 to 49 (★☆☆)"
      ],
      "id": "782d4c77"
    },
    {
      "cell_type": "code",
      "metadata": {
        "id": "5dbe1a08",
        "colab": {
          "base_uri": "https://localhost:8080/"
        },
        "outputId": "fb064c9c-f52d-4371-aef5-ad8e3af690c7"
      },
      "source": [
        "vector1 = np.arange(10,50)\n",
        "print(vector1)"
      ],
      "id": "5dbe1a08",
      "execution_count": null,
      "outputs": [
        {
          "output_type": "stream",
          "name": "stdout",
          "text": [
            "[10 11 12 13 14 15 16 17 18 19 20 21 22 23 24 25 26 27 28 29 30 31 32 33\n",
            " 34 35 36 37 38 39 40 41 42 43 44 45 46 47 48 49]\n"
          ]
        }
      ]
    },
    {
      "cell_type": "markdown",
      "metadata": {
        "id": "48d48f01"
      },
      "source": [
        "#### 7. Reverse a vector (first element becomes last) (★☆☆)"
      ],
      "id": "48d48f01"
    },
    {
      "cell_type": "code",
      "metadata": {
        "id": "3ed233e7",
        "colab": {
          "base_uri": "https://localhost:8080/"
        },
        "outputId": "9d20b714-0739-429c-de79-7645e4ea1592"
      },
      "source": [
        "vector2 = np.sort(vector1)[::-1]\n",
        "print(vector2)"
      ],
      "id": "3ed233e7",
      "execution_count": null,
      "outputs": [
        {
          "output_type": "stream",
          "name": "stdout",
          "text": [
            "[49 48 47 46 45 44 43 42 41 40 39 38 37 36 35 34 33 32 31 30 29 28 27 26\n",
            " 25 24 23 22 21 20 19 18 17 16 15 14 13 12 11 10]\n"
          ]
        }
      ]
    },
    {
      "cell_type": "markdown",
      "metadata": {
        "id": "4fa39382"
      },
      "source": [
        "#### 8. Create a 3x3 matrix with values ranging from 0 to 8 (★☆☆)"
      ],
      "id": "4fa39382"
    },
    {
      "cell_type": "code",
      "metadata": {
        "id": "c97757ec",
        "colab": {
          "base_uri": "https://localhost:8080/"
        },
        "outputId": "99c6cb20-950d-4e29-e2f8-dfabfee4a6e7"
      },
      "source": [
        "vector1 = np.arange(0, 9)\n",
        "vector2 = vector1.reshape(3, 3)\n",
        "print(vector2)"
      ],
      "id": "c97757ec",
      "execution_count": null,
      "outputs": [
        {
          "output_type": "stream",
          "name": "stdout",
          "text": [
            "[[0 1 2]\n",
            " [3 4 5]\n",
            " [6 7 8]]\n"
          ]
        }
      ]
    },
    {
      "cell_type": "markdown",
      "metadata": {
        "id": "da64551a"
      },
      "source": [
        "#### 9. Find indices of non-zero elements from [1,2,0,0,4,0] (★☆☆)"
      ],
      "id": "da64551a"
    },
    {
      "cell_type": "code",
      "metadata": {
        "id": "327f7adb",
        "colab": {
          "base_uri": "https://localhost:8080/"
        },
        "outputId": "8e4e164a-a4e2-4152-bca6-61fb99c47d11"
      },
      "source": [
        "vector1 = np.array([1, 2, 0, 0, 4, 0])\n",
        "print(np.where(vector1 != 0))"
      ],
      "id": "327f7adb",
      "execution_count": null,
      "outputs": [
        {
          "output_type": "stream",
          "name": "stdout",
          "text": [
            "(array([0, 1, 4]),)\n"
          ]
        }
      ]
    },
    {
      "cell_type": "markdown",
      "metadata": {
        "id": "f89d9c9e"
      },
      "source": [
        "#### 10. Create a 3x3 identity matrix (★☆☆)\n",
        "Hint : identity & eye, try to use 'help' to learn how to use two functions of numpy"
      ],
      "id": "f89d9c9e"
    },
    {
      "cell_type": "code",
      "source": [
        "identity_matrix = np.eye(3)\n",
        "print(identity_matrix)"
      ],
      "metadata": {
        "id": "fQFB1sJ8Q8cj",
        "colab": {
          "base_uri": "https://localhost:8080/"
        },
        "outputId": "b066dea7-de28-4f12-c24d-f56e0a37d625"
      },
      "id": "fQFB1sJ8Q8cj",
      "execution_count": null,
      "outputs": [
        {
          "output_type": "stream",
          "name": "stdout",
          "text": [
            "[[1. 0. 0.]\n",
            " [0. 1. 0.]\n",
            " [0. 0. 1.]]\n"
          ]
        }
      ]
    },
    {
      "cell_type": "markdown",
      "metadata": {
        "id": "7e44c6fa"
      },
      "source": [
        "#### 11. Create a 3x3x3 array with random values (★☆☆)\n",
        "Hint : numpy.random.random"
      ],
      "id": "7e44c6fa"
    },
    {
      "cell_type": "code",
      "metadata": {
        "id": "1cb3dddf",
        "colab": {
          "base_uri": "https://localhost:8080/"
        },
        "outputId": "707655ef-d795-4eb7-97f1-715f4b430490"
      },
      "source": [
        "np.random.random((3, 3))"
      ],
      "id": "1cb3dddf",
      "execution_count": null,
      "outputs": [
        {
          "output_type": "execute_result",
          "data": {
            "text/plain": [
              "array([[0.20301963, 0.25250366, 0.14295065],\n",
              "       [0.03372411, 0.94205609, 0.05437132],\n",
              "       [0.5870369 , 0.76575678, 0.27625649]])"
            ]
          },
          "metadata": {},
          "execution_count": 18
        }
      ]
    },
    {
      "cell_type": "markdown",
      "metadata": {
        "id": "13c5928c"
      },
      "source": [
        "#### 12. Create a 10x10 array with random values and find the **min**imum and **max**imum values (★☆☆)"
      ],
      "id": "13c5928c"
    },
    {
      "cell_type": "code",
      "metadata": {
        "id": "911c9b93",
        "colab": {
          "base_uri": "https://localhost:8080/"
        },
        "outputId": "80e0006c-3884-4cf9-f6a1-603171267e41"
      },
      "source": [
        "random_array = np.random.random((10, 10))\n",
        "print(random_array.min(), random_array.max())"
      ],
      "id": "911c9b93",
      "execution_count": null,
      "outputs": [
        {
          "output_type": "stream",
          "name": "stdout",
          "text": [
            "0.001250308506423936 0.9984689062925821\n"
          ]
        }
      ]
    },
    {
      "cell_type": "markdown",
      "metadata": {
        "id": "3fa2e461"
      },
      "source": [
        "#### 13. Create a random vector of size 30 and find the **mean** value (★☆☆)"
      ],
      "id": "3fa2e461"
    },
    {
      "cell_type": "code",
      "metadata": {
        "id": "323eb38a",
        "colab": {
          "base_uri": "https://localhost:8080/"
        },
        "outputId": "7e825746-769a-4191-babc-0a7d8177feb1"
      },
      "source": [
        "random_vector = np.random.random(30)\n",
        "print(random_vector.mean())"
      ],
      "id": "323eb38a",
      "execution_count": null,
      "outputs": [
        {
          "output_type": "stream",
          "name": "stdout",
          "text": [
            "0.4252300869491016\n"
          ]
        }
      ]
    },
    {
      "cell_type": "markdown",
      "metadata": {
        "id": "73f7a549"
      },
      "source": [
        "#### 14. Create a 2d array with 1 on the border and 0 inside (★☆☆)"
      ],
      "id": "73f7a549"
    },
    {
      "cell_type": "code",
      "source": [
        "array = np.ones((5,5))\n",
        "array[1:-1, 1:-1] = 0\n",
        "print(array)"
      ],
      "metadata": {
        "colab": {
          "base_uri": "https://localhost:8080/"
        },
        "id": "x36bi1sBR96A",
        "outputId": "bd848c61-f7de-43fa-a529-2ce2af64713a"
      },
      "id": "x36bi1sBR96A",
      "execution_count": null,
      "outputs": [
        {
          "output_type": "stream",
          "name": "stdout",
          "text": [
            "[[1. 1. 1. 1. 1.]\n",
            " [1. 0. 0. 0. 1.]\n",
            " [1. 0. 0. 0. 1.]\n",
            " [1. 0. 0. 0. 1.]\n",
            " [1. 1. 1. 1. 1.]]\n"
          ]
        }
      ]
    },
    {
      "cell_type": "markdown",
      "metadata": {
        "id": "d6ad1a9f"
      },
      "source": [
        "#### 15. What is the result of the following expression? (★☆☆)\n",
        "```python\n",
        "0 * np.nan\n",
        "np.nan == np.nan\n",
        "np.inf > np.nan\n",
        "np.nan - np.nan\n",
        "np.nan in set([np.nan])\n",
        "0.3 == 3 * 0.1\n",
        "```"
      ],
      "id": "d6ad1a9f"
    },
    {
      "cell_type": "markdown",
      "source": [
        "nan, False, False, nan, True, True"
      ],
      "metadata": {
        "id": "D1R9AmCGQrgn"
      },
      "id": "D1R9AmCGQrgn"
    },
    {
      "cell_type": "markdown",
      "metadata": {
        "id": "e3a7ba7f"
      },
      "source": [
        "#### 16. Create a 5x5 matrix with values 1,2,3,4 just below the **diag**onal (★☆☆)"
      ],
      "id": "e3a7ba7f"
    },
    {
      "cell_type": "code",
      "source": [
        "matrix1 = np.zeros((5,5))\n",
        "matrix1[1, 0] = 1\n",
        "matrix1[2, 1] = 2\n",
        "matrix1[3, 2] = 3\n",
        "matrix1[4, 3] = 4\n",
        "print(matrix1)"
      ],
      "metadata": {
        "colab": {
          "base_uri": "https://localhost:8080/"
        },
        "id": "6JRCfRoeSbJS",
        "outputId": "6ed7b75b-0c91-4237-c09d-bc3dbc46c911"
      },
      "id": "6JRCfRoeSbJS",
      "execution_count": null,
      "outputs": [
        {
          "output_type": "stream",
          "name": "stdout",
          "text": [
            "[[0. 0. 0. 0. 0.]\n",
            " [1. 0. 0. 0. 0.]\n",
            " [0. 2. 0. 0. 0.]\n",
            " [0. 0. 3. 0. 0.]\n",
            " [0. 0. 0. 4. 0.]]\n"
          ]
        }
      ]
    },
    {
      "cell_type": "markdown",
      "metadata": {
        "id": "6d17ab5d"
      },
      "source": [
        "#### 17. Create a 8x8 matrix and fill it with a checkerboard pattern (★☆☆)"
      ],
      "id": "6d17ab5d"
    },
    {
      "cell_type": "code",
      "metadata": {
        "id": "841373cd",
        "colab": {
          "base_uri": "https://localhost:8080/"
        },
        "outputId": "3a4aa7e3-18a0-4931-ff49-178eaad60ce2"
      },
      "source": [
        "matrix1 = np.zeros((8,8))\n",
        "matrix1[1::2, ::2] = 1\n",
        "matrix1[::2, 1::2] = 1\n",
        "print(matrix1)"
      ],
      "id": "841373cd",
      "execution_count": null,
      "outputs": [
        {
          "output_type": "stream",
          "name": "stdout",
          "text": [
            "[[0. 1. 0. 1. 0. 1. 0. 1.]\n",
            " [1. 0. 1. 0. 1. 0. 1. 0.]\n",
            " [0. 1. 0. 1. 0. 1. 0. 1.]\n",
            " [1. 0. 1. 0. 1. 0. 1. 0.]\n",
            " [0. 1. 0. 1. 0. 1. 0. 1.]\n",
            " [1. 0. 1. 0. 1. 0. 1. 0.]\n",
            " [0. 1. 0. 1. 0. 1. 0. 1.]\n",
            " [1. 0. 1. 0. 1. 0. 1. 0.]]\n"
          ]
        }
      ]
    },
    {
      "cell_type": "markdown",
      "metadata": {
        "id": "8837119b"
      },
      "source": [
        "#### 18. Consider a (6,7,8) shape array, what is the index (x,y,z) of the 100th element? (★☆☆)\n",
        "Hint : use 'numpy.unravel_index(value, (x, y, z))"
      ],
      "id": "8837119b"
    },
    {
      "cell_type": "code",
      "metadata": {
        "id": "2c0d16f1",
        "colab": {
          "base_uri": "https://localhost:8080/"
        },
        "outputId": "43634863-3514-47a9-ba2b-97f2c77d12a5"
      },
      "source": [
        "np.unravel_index(100, (6, 7, 8))"
      ],
      "id": "2c0d16f1",
      "execution_count": null,
      "outputs": [
        {
          "output_type": "execute_result",
          "data": {
            "text/plain": [
              "(1, 5, 4)"
            ]
          },
          "metadata": {},
          "execution_count": 34
        }
      ]
    },
    {
      "cell_type": "markdown",
      "metadata": {
        "id": "391791e0"
      },
      "source": [
        "#### 19. Normalize a 5x5 random matrix (★☆☆)\n",
        "Hint : $Z = \\frac{X - \\overline{X}}{S}$"
      ],
      "id": "391791e0"
    },
    {
      "cell_type": "code",
      "metadata": {
        "id": "f6533d39",
        "colab": {
          "base_uri": "https://localhost:8080/"
        },
        "outputId": "6bdcc522-11af-48fc-c96a-43c427a81902"
      },
      "source": [
        "matrix19 = np.random.random((5,5))\n",
        "X_bar = matrix19.mean()\n",
        "std = matrix19.std()\n",
        "normalize_matrix19 = (matrix19 - X_bar)/std\n",
        "print(normalize_matrix19)"
      ],
      "id": "f6533d39",
      "execution_count": null,
      "outputs": [
        {
          "output_type": "stream",
          "name": "stdout",
          "text": [
            "[[-1.12008294  0.72192531 -0.80663059  0.23837319 -0.38217538]\n",
            " [ 0.65916378 -1.68567033  1.30017916 -0.49189509  0.75306736]\n",
            " [-1.51836057 -0.38109543  1.23702607 -1.03929029  1.10824039]\n",
            " [ 1.16947617  0.05485895 -0.64874027  1.31842079 -1.8649717 ]\n",
            " [ 0.19611686  0.59081007  1.10187662  0.62957907 -1.1402012 ]]\n"
          ]
        }
      ]
    },
    {
      "cell_type": "markdown",
      "metadata": {
        "id": "1e74d39e"
      },
      "source": [
        "#### 20. Create a custom dtype that describes a color as four unsigned bytes (RGBA) (★☆☆)\n",
        "Hint : modify the code below\n",
        "```python\n",
        "numpy.dtype([(value, numpy.ubyte), … , (value, numpy.ubyte)])\n",
        "```"
      ],
      "id": "1e74d39e"
    },
    {
      "cell_type": "code",
      "metadata": {
        "id": "3f639d33",
        "colab": {
          "base_uri": "https://localhost:8080/"
        },
        "outputId": "d7e73c02-2406-4450-ff79-c06975441df0"
      },
      "source": [
        "rgba_dtype = np.dtype([('Red', np.ubyte), ('Green', np.ubyte), ('Blue', np.ubyte), ('Alpha', np.ubyte)])\n",
        "print(rgba_dtype)"
      ],
      "id": "3f639d33",
      "execution_count": null,
      "outputs": [
        {
          "output_type": "stream",
          "name": "stdout",
          "text": [
            "[('Red', 'u1'), ('Green', 'u1'), ('Blue', 'u1'), ('Alpha', 'u1')]\n"
          ]
        }
      ]
    },
    {
      "cell_type": "markdown",
      "metadata": {
        "id": "78250c14"
      },
      "source": [
        "#### 21. Multiply a 5x3 matrix by a 3x2 matrix (real matrix product) (★☆☆)"
      ],
      "id": "78250c14"
    },
    {
      "cell_type": "code",
      "source": [],
      "metadata": {
        "id": "TtShofRntKKt"
      },
      "id": "TtShofRntKKt",
      "execution_count": null,
      "outputs": []
    },
    {
      "cell_type": "code",
      "metadata": {
        "id": "9fe729cb"
      },
      "source": [],
      "id": "9fe729cb",
      "execution_count": null,
      "outputs": []
    },
    {
      "cell_type": "markdown",
      "metadata": {
        "id": "51898680"
      },
      "source": [
        "#### 22. Given a 1D array, negate all elements which are between 3 and 8, in place. (★☆☆)"
      ],
      "id": "51898680"
    },
    {
      "cell_type": "code",
      "source": [],
      "metadata": {
        "id": "8FbNKrAFnPx8"
      },
      "id": "8FbNKrAFnPx8",
      "execution_count": null,
      "outputs": []
    },
    {
      "cell_type": "code",
      "metadata": {
        "id": "51c90f2d"
      },
      "source": [],
      "id": "51c90f2d",
      "execution_count": null,
      "outputs": []
    },
    {
      "cell_type": "markdown",
      "metadata": {
        "id": "89e78048"
      },
      "source": [
        "#### 23. What is the output of the following script? (★☆☆)\n",
        "```python\n",
        "# Author: Jake VanderPlas\n",
        "\n",
        "print(sum(range(5),-1))\n",
        "from numpy import *\n",
        "print(sum(range(5),-1))\n",
        "```"
      ],
      "id": "89e78048"
    },
    {
      "cell_type": "markdown",
      "source": [
        "*   Python Built-in sum Function: The sum of range(5) (which is 0 + 1 + 2 + 3 + 4 = 10) is computed, and then -1 is added to it. The result will be 9\n",
        "*   NumPy's sum Function: NumPy's sum function doesn't treat the second argument as a start value like Python's built-in sum. Instead, it treats it as an axis parameter. Since -1 is not a valid axis for a 1D sequence (the valid axis for a 1D array is 0), NumPy will raise a TypeError\n"
      ],
      "metadata": {
        "id": "anrGLNS4FZMi"
      },
      "id": "anrGLNS4FZMi"
    },
    {
      "cell_type": "markdown",
      "metadata": {
        "id": "ebd10810"
      },
      "source": [
        "#### 24. Consider an integer vector Z, which of these expressions are legal? (★☆☆)\n",
        "```python\n",
        "Z**Z\n",
        "2 << Z >> 2\n",
        "Z <- Z\n",
        "1j*Z\n",
        "Z/1/1\n",
        "Z<Z>Z\n",
        "```"
      ],
      "id": "ebd10810"
    },
    {
      "cell_type": "code",
      "metadata": {
        "id": "6ada209f"
      },
      "source": [],
      "id": "6ada209f",
      "execution_count": null,
      "outputs": []
    },
    {
      "cell_type": "markdown",
      "metadata": {
        "id": "c0e940f8"
      },
      "source": [
        "#### 25. What are the result of the following expressions? (★☆☆)\n",
        "```python\n",
        "np.array(0) / np.array(0)\n",
        "np.array(0) // np.array(0)\n",
        "np.array([np.nan]).astype(int).astype(float)\n",
        "```"
      ],
      "id": "c0e940f8"
    },
    {
      "cell_type": "code",
      "metadata": {
        "id": "820dc7a5"
      },
      "source": [],
      "id": "820dc7a5",
      "execution_count": null,
      "outputs": []
    },
    {
      "cell_type": "markdown",
      "metadata": {
        "id": "f1ae2c2d"
      },
      "source": [
        "#### 26. How to find common values between two arrays? (★☆☆)\n",
        "```python\n",
        "Z1 = np.random.randint(0,10,10)\n",
        "Z2 = np.random.randint(0,10,10)\n",
        "```\n",
        "Hint : use `numpy.random.randint(start, end, size)`"
      ],
      "id": "f1ae2c2d"
    },
    {
      "cell_type": "code",
      "metadata": {
        "id": "6801c73d"
      },
      "source": [],
      "id": "6801c73d",
      "execution_count": null,
      "outputs": []
    },
    {
      "cell_type": "markdown",
      "metadata": {
        "id": "37bc0973"
      },
      "source": [
        "#### 27. Is the following expressions true? (★☆☆)\n",
        "```python\n",
        "np.sqrt(-1) == np.emath.sqrt(-1)\n",
        "```"
      ],
      "id": "37bc0973"
    },
    {
      "cell_type": "code",
      "metadata": {
        "id": "c70cbabe"
      },
      "source": [],
      "id": "c70cbabe",
      "execution_count": null,
      "outputs": []
    },
    {
      "cell_type": "markdown",
      "metadata": {
        "id": "42f8b2f9"
      },
      "source": [
        "#### 28. How to get all the dates corresponding to the month of July 2016? (★★☆)\n",
        "Hint : modify the code below\n",
        "```python\n",
        "Z = np.arange('start', 'end', dtype='datetime64[D]')\n",
        "```"
      ],
      "id": "42f8b2f9"
    },
    {
      "cell_type": "code",
      "source": [],
      "metadata": {
        "id": "3kkl01x3x0NF"
      },
      "id": "3kkl01x3x0NF",
      "execution_count": null,
      "outputs": []
    },
    {
      "cell_type": "markdown",
      "metadata": {
        "id": "252c43e2"
      },
      "source": [
        "#### 29. How to compute ((A+B)*(-A/2)) in place (without copy)? (★★☆)\n",
        "Hint : use `numpy.add`, `numpy.divide`,`numpy.negative`, `numpy.multiply` and parameter `out` of the funtions"
      ],
      "id": "252c43e2"
    },
    {
      "cell_type": "code",
      "source": [],
      "metadata": {
        "id": "pTZ3TAaECwZM"
      },
      "id": "pTZ3TAaECwZM",
      "execution_count": null,
      "outputs": []
    },
    {
      "cell_type": "markdown",
      "metadata": {
        "id": "486df8ea"
      },
      "source": [
        "#### 30. Extract the integer part of a random array of positive numbers using 2 different methods (★★☆)\n",
        "Hint : `%`, `//`"
      ],
      "id": "486df8ea"
    },
    {
      "cell_type": "code",
      "metadata": {
        "id": "34b4fa08"
      },
      "source": [],
      "id": "34b4fa08",
      "execution_count": null,
      "outputs": []
    },
    {
      "cell_type": "markdown",
      "metadata": {
        "id": "649e89f9"
      },
      "source": [
        "#### 31. Create a 5x5 matrix with row values ranging from 0 to 4 (★★☆)"
      ],
      "id": "649e89f9"
    },
    {
      "cell_type": "code",
      "metadata": {
        "id": "663cc611"
      },
      "source": [],
      "id": "663cc611",
      "execution_count": null,
      "outputs": []
    },
    {
      "cell_type": "markdown",
      "metadata": {
        "id": "2d07be1c"
      },
      "source": [
        "#### 32. Create a random vector of size 10 and sort it (★★☆)"
      ],
      "id": "2d07be1c"
    },
    {
      "cell_type": "code",
      "metadata": {
        "id": "4f7cb3ad"
      },
      "source": [],
      "id": "4f7cb3ad",
      "execution_count": null,
      "outputs": []
    },
    {
      "cell_type": "markdown",
      "metadata": {
        "id": "fe043549"
      },
      "source": [
        "#### 33. Consider two random array A and B, check if they are equal (★★☆)\n",
        "```python\n",
        "A = np.random.randint(0,2,5)\n",
        "B = np.random.randint(0,2,5)\n",
        "```\n",
        "Hint : Use `numpy.array_equal()`"
      ],
      "id": "fe043549"
    },
    {
      "cell_type": "code",
      "metadata": {
        "id": "3326a686"
      },
      "source": [],
      "id": "3326a686",
      "execution_count": null,
      "outputs": []
    },
    {
      "cell_type": "markdown",
      "metadata": {
        "id": "2002cb03"
      },
      "source": [
        "#### 34. Consider a random 10x2 matrix representing cartesian coordinates, convert them to polar coordinates (★★☆)\n",
        "Hint 1 : Note that cartesian coodinate **(x, y)** can be represented as  polar coordinates **(distance from origin to (x,y), angle from the x-axis)**\n",
        "\n",
        "Hint 2 : Use `numpy.sqrt` and `numpy.arctan2`"
      ],
      "id": "2002cb03"
    },
    {
      "cell_type": "code",
      "metadata": {
        "id": "58be72bc"
      },
      "source": [],
      "id": "58be72bc",
      "execution_count": null,
      "outputs": []
    },
    {
      "cell_type": "markdown",
      "metadata": {
        "id": "b7109c9f"
      },
      "source": [
        "#### 35. Create random vector Z of size 10 and replace the maximum value by 0 (★★☆)\n",
        "Hint : We can see the index of maximum value using `Z.argmax()`"
      ],
      "id": "b7109c9f"
    },
    {
      "cell_type": "code",
      "metadata": {
        "id": "f79e79a7"
      },
      "source": [],
      "id": "f79e79a7",
      "execution_count": null,
      "outputs": []
    },
    {
      "cell_type": "markdown",
      "metadata": {
        "id": "e6e1ae2f"
      },
      "source": [
        "#### 36. How to find the closest value (to a given scalar v) in a vector Z? (★★☆)\n",
        "```python\n",
        "Z = np.arange(100)\n",
        "v = np.random.uniform(0,100)\n",
        "```\n",
        "Hint : Coumpute the distances between the each elements of Z and the scalar v. After that, we can see the index of minimum value using `argmin()`.  "
      ],
      "id": "e6e1ae2f"
    },
    {
      "cell_type": "code",
      "source": [],
      "metadata": {
        "id": "QkQ2Mii77FrE"
      },
      "id": "QkQ2Mii77FrE",
      "execution_count": null,
      "outputs": []
    },
    {
      "cell_type": "markdown",
      "metadata": {
        "id": "f98713a6"
      },
      "source": [
        "#### 37. What is the equivalent of enumerate for numpy arrays? (★★☆)\n",
        "Hint : Use `numpy.ndenumerate()`or `numpy.ndindex()`\n",
        "\n",
        "Example of the output :\n",
        "```python\n",
        "Z = np.arange(9).reshape(3,3)\n",
        "```\n",
        "```python\n",
        "# output\n",
        "(0, 0) 0\n",
        "(0, 1) 1\n",
        "(0, 2) 2\n",
        "(1, 0) 3\n",
        "(1, 1) 4\n",
        "(1, 2) 5\n",
        "(2, 0) 6\n",
        "(2, 1) 7\n",
        "(2, 2) 8\n",
        "```"
      ],
      "id": "f98713a6"
    },
    {
      "cell_type": "code",
      "metadata": {
        "id": "64795f84"
      },
      "source": [],
      "id": "64795f84",
      "execution_count": null,
      "outputs": []
    },
    {
      "cell_type": "markdown",
      "metadata": {
        "id": "0cf413ee"
      },
      "source": [
        "#### 38. How to randomly place p elements in a 2D array? (★★☆)\n",
        "Hint : modify the code below\n",
        "```python\n",
        "n = 'size of a 2D array'\n",
        "p = 'the number of elements that you want to place'\n",
        "Z = np.zeros((n,n))\n",
        "np.put(Z, np.random.choice(range(n*n), p, replace = False),'value that you want to place')\n",
        "print(Z)\n",
        "```"
      ],
      "id": "0cf413ee"
    },
    {
      "cell_type": "code",
      "metadata": {
        "id": "dfc57e06"
      },
      "source": [],
      "id": "dfc57e06",
      "execution_count": null,
      "outputs": []
    },
    {
      "cell_type": "markdown",
      "metadata": {
        "id": "c0cf37e0"
      },
      "source": [
        "#### 39. How to sort an array below by the nth column? (★★☆)\n",
        "```python\n",
        "Z = np.random.randint(0,10,(3,3))\n",
        "```"
      ],
      "id": "c0cf37e0"
    },
    {
      "cell_type": "code",
      "metadata": {
        "id": "9336ca5f"
      },
      "source": [
        "# column 3"
      ],
      "id": "9336ca5f",
      "execution_count": null,
      "outputs": []
    },
    {
      "cell_type": "code",
      "source": [
        "# column 2\n"
      ],
      "metadata": {
        "id": "0hZzZ6tn2K6V"
      },
      "id": "0hZzZ6tn2K6V",
      "execution_count": null,
      "outputs": []
    },
    {
      "cell_type": "code",
      "source": [
        "# column 3\n"
      ],
      "metadata": {
        "id": "z4zqQXvt2NaB"
      },
      "id": "z4zqQXvt2NaB",
      "execution_count": null,
      "outputs": []
    }
  ]
}