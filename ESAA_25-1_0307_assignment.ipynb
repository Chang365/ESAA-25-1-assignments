{
 "cells": [
  {
   "cell_type": "markdown",
   "id": "4c32e2a2-4624-40df-a123-35e6211bb0c3",
   "metadata": {},
   "source": [
    "# 03. 넘파이\n",
    ": 파이썬에서 선형대수 기반의 프로그램을 쉽게 만들 수 있도록 지원하는 패키지\n",
    ": 루프 사용 X -> 빠른 배열 연산 속도\n",
    "# 넘파이 ndarray 개요\n",
    ": 다차원 배열"
   ]
  },
  {
   "cell_type": "code",
   "execution_count": 1,
   "id": "9ec5eeff-a1b5-4afc-baf8-45bee97da5c1",
   "metadata": {},
   "outputs": [],
   "source": [
    "import numpy as np #약어"
   ]
  },
  {
   "cell_type": "code",
   "execution_count": 2,
   "id": "73afec7d-a583-489f-82e9-882e6af5ea59",
   "metadata": {},
   "outputs": [
    {
     "name": "stdout",
     "output_type": "stream",
     "text": [
      "array1 type: <class 'numpy.ndarray'>\n",
      "array1 array 형태: (3,)\n",
      "array2 type: <class 'numpy.ndarray'>\n",
      "array2 array 형태: (2, 3)\n",
      "array3 type: <class 'numpy.ndarray'>\n",
      "array3 array 형태: (1, 3)\n"
     ]
    }
   ],
   "source": [
    "array1 = np.array([1, 2, 3])\n",
    "print('array1 type:', type(array1))\n",
    "print('array1 array 형태:', array1.shape) #1차원\n",
    "\n",
    "array2 = np.array([[1, 2, 3],\n",
    "                   [2, 3, 4]])\n",
    "print('array2 type:', type(array2))\n",
    "print('array2 array 형태:', array2.shape) #2차원\n",
    "\n",
    "array3 = np.array([[1, 2, 3]])\n",
    "print('array3 type:', type(array3))\n",
    "print('array3 array 형태:', array3.shape) #2차원"
   ]
  },
  {
   "cell_type": "markdown",
   "id": "d572a143-45e2-4779-931f-b62b8bba1917",
   "metadata": {},
   "source": [
    "array() : ndarray로 변환 (크기, 행과열, 차원)\n",
    "np.array() -> ndarray로 변환을 원하는 인자 입력하면 변환함\n",
    "ndarray.shape -> ndarray의 차원과 크기를 튜플 형태로 변환"
   ]
  },
  {
   "cell_type": "code",
   "execution_count": 3,
   "id": "11e4d51b-543b-4852-9919-8c058b4fd186",
   "metadata": {},
   "outputs": [
    {
     "name": "stdout",
     "output_type": "stream",
     "text": [
      "array1: 1차원, array2: 2차원, array3:  2차원\n"
     ]
    }
   ],
   "source": [
    "#ndarray.ndim\n",
    "\n",
    "print('array1: {:0}차원, array2: {:1}차원, array3: {:2}차원'.format(array1.ndim, array2.ndim, array3.ndim))"
   ]
  },
  {
   "cell_type": "markdown",
   "id": "4a0e8d87-76d8-471e-b6a3-c12e51cf0573",
   "metadata": {},
   "source": [
    "# ndarray의 데이터 타입"
   ]
  },
  {
   "cell_type": "code",
   "execution_count": 4,
   "id": "92fa3685-91dc-42ed-9ba7-23713ed9b767",
   "metadata": {},
   "outputs": [
    {
     "name": "stdout",
     "output_type": "stream",
     "text": [
      "<class 'list'>\n",
      "<class 'numpy.ndarray'>\n",
      "[1 2 3] int32\n"
     ]
    }
   ],
   "source": [
    "#dtype (같은 데이터 유형)\n",
    "\n",
    "list1 = [1, 2, 3]\n",
    "print(type(list1))\n",
    "array1 = np.array(list1)\n",
    "print(type(array1))\n",
    "print(array1, array1.dtype)"
   ]
  },
  {
   "cell_type": "code",
   "execution_count": 5,
   "id": "e0ab4a08-32e5-48ae-86ba-39f50d1033de",
   "metadata": {},
   "outputs": [
    {
     "name": "stdout",
     "output_type": "stream",
     "text": [
      "['1' '2' 'test'] <U11\n",
      "[1. 2. 3.] float64\n"
     ]
    }
   ],
   "source": [
    "#다른 데이터 유형이 섞여잇는 리스트를 ndarray로 변경 -> 데이터 크기가 더 큰 데이터 타입으로 형 변환을 일괄 적용\n",
    "\n",
    "list2 = [1, 2, 'test'] #int + string -> int형이 유니코드 문자열 값으로 변환\n",
    "array2 = np.array(list2)\n",
    "print(array2, array2.dtype)\n",
    "\n",
    "list3 = [1, 2, 3.0] #int + float -> int 1,2가 float64로 변환\n",
    "array3 = np.array(list3)\n",
    "print(array3, array3.dtype)"
   ]
  },
  {
   "cell_type": "code",
   "execution_count": 6,
   "id": "1f30e8f0-afd8-45fc-8313-1489d30e7b51",
   "metadata": {},
   "outputs": [
    {
     "name": "stdout",
     "output_type": "stream",
     "text": [
      "[1. 2. 3.] float64\n",
      "[1 2 3] int32\n",
      "[1 2 3] int32\n"
     ]
    }
   ],
   "source": [
    "#astype() -> ndarray 내 데이터값의 타입 변경\n",
    "# 대용량 데이터를 만드는 경우 메모리 절약 가능\n",
    "\n",
    "array_int = np.array([1, 2, 3])\n",
    "array_float = array_int.astype('float64')\n",
    "print(array_float, array_float.dtype) #int32형을 float64로 변환\n",
    "\n",
    "array_int1 = array_float.astype('int32')\n",
    "print(array_int1, array_int1.dtype) #float64를 int32로 변환\n",
    "\n",
    "array_float1 = np.array([1.1, 2.1, 3.1])\n",
    "array_int2 = array_float1.astype('int32')\n",
    "print(array_int2, array_int2.dtype) #float -> int 변경시 소수점 아래 삭제"
   ]
  },
  {
   "cell_type": "markdown",
   "id": "4b12ad34-32ea-4b5b-b7a6-9d09af64d2e5",
   "metadata": {},
   "source": [
    "# ndarray를 편리하게 생성하기 - arrange, zero, ones\n",
    ": 특정 크기와 차원을 가진 ndarrat흫 연속값이나 0 또는 1로 초기화해 쉽게 생성할때"
   ]
  },
  {
   "cell_type": "code",
   "execution_count": 7,
   "id": "b5c68488-673c-49a7-8cf6-5cfd3a8b12f1",
   "metadata": {},
   "outputs": [
    {
     "name": "stdout",
     "output_type": "stream",
     "text": [
      "[0 1 2 3 4 5 6 7 8 9]\n",
      "int32 (10,)\n"
     ]
    }
   ],
   "source": [
    "#arange() : 파이썬 표준 함수는 range() 와 유사\n",
    "\n",
    "sequence_array = np.arange(10)\n",
    "print(sequence_array)\n",
    "print(sequence_array.dtype, sequence_array.shape) #1차원"
   ]
  },
  {
   "cell_type": "code",
   "execution_count": 8,
   "id": "d1ad5704-66a5-4798-ab10-c537d460cf6c",
   "metadata": {},
   "outputs": [
    {
     "name": "stdout",
     "output_type": "stream",
     "text": [
      "[[0 0]\n",
      " [0 0]\n",
      " [0 0]]\n",
      "int32 (3, 2)\n",
      "[[1. 1.]\n",
      " [1. 1.]\n",
      " [1. 1.]]\n",
      "float64 (3, 2)\n"
     ]
    }
   ],
   "source": [
    "#zeros() : 모든 값을 0을 채운 해당 shape를 가진 ndarray로 변환\n",
    "zero_array = np.zeros((3,2), dtype = 'int32')\n",
    "print(zero_array)\n",
    "print(zero_array.dtype, zero_array.shape)\n",
    "\n",
    "#ones() : 모든 값을 1로 채운 해당 shape를 가진 ndarray로 변환\n",
    "one_array = np.ones((3,2))\n",
    "print(one_array)\n",
    "print(one_array.dtype, one_array.shape)"
   ]
  },
  {
   "cell_type": "markdown",
   "id": "5f10e854-c312-4017-8e9a-b9969fb25825",
   "metadata": {},
   "source": [
    "# ndarray의 차원과 크기를 변경하는 reshape()"
   ]
  },
  {
   "cell_type": "code",
   "execution_count": 9,
   "id": "81f15d0f-a866-432f-9fbd-1df307b437c5",
   "metadata": {},
   "outputs": [
    {
     "name": "stdout",
     "output_type": "stream",
     "text": [
      "array1:\n",
      " [0 1 2 3 4 5 6 7 8 9]\n",
      "array2:\n",
      " [[0 1 2 3 4]\n",
      " [5 6 7 8 9]]\n",
      "array:\n",
      " [[0 1]\n",
      " [2 3]\n",
      " [4 5]\n",
      " [6 7]\n",
      " [8 9]]\n"
     ]
    }
   ],
   "source": [
    "#reshape : 1차원을 2차원으로 변환\n",
    "#지정된 크기로 변경이 불가능하면 오류\n",
    "\n",
    "array1 = np.arange(10)\n",
    "print('array1:\\n', array1)\n",
    "\n",
    "array2 = array1.reshape(2, 5)\n",
    "print('array2:\\n', array2)\n",
    "\n",
    "array3 = array1.reshape(5,2)\n",
    "print('array:\\n', array3)"
   ]
  },
  {
   "cell_type": "code",
   "execution_count": 10,
   "id": "1a4424a2-c9f2-4bf3-aa6b-1ca6f500f6b1",
   "metadata": {},
   "outputs": [
    {
     "name": "stdout",
     "output_type": "stream",
     "text": [
      "[0 1 2 3 4 5 6 7 8 9]\n",
      "array2 shape: (2, 5)\n",
      "array3 shape: (5, 2)\n"
     ]
    }
   ],
   "source": [
    "#-1을 인자로 넣으면 호환 가능한 새로운 shape 으로 변환\n",
    "\n",
    "array1 = np.arange(10) #1차원\n",
    "print(array1)\n",
    "array2 = array1.reshape(-1, 5)\n",
    "print('array2 shape:', array2.shape)\n",
    "array3 = array1.reshape(5, -1)\n",
    "print('array3 shape:', array3.shape)"
   ]
  },
  {
   "cell_type": "code",
   "execution_count": 11,
   "id": "95c233c1-45dc-4717-98c3-1d31f0ac47b2",
   "metadata": {},
   "outputs": [
    {
     "ename": "ValueError",
     "evalue": "cannot reshape array of size 10 into shape (4)",
     "output_type": "error",
     "traceback": [
      "\u001b[1;31m---------------------------------------------------------------------------\u001b[0m",
      "\u001b[1;31mValueError\u001b[0m                                Traceback (most recent call last)",
      "Cell \u001b[1;32mIn[11], line 4\u001b[0m\n\u001b[0;32m      1\u001b[0m \u001b[38;5;66;03m#10개의 1차원 데이터를 고정된 4개의 칼럼을 가진 로우로는 변경 X\u001b[39;00m\n\u001b[0;32m      3\u001b[0m arrayl \u001b[38;5;241m=\u001b[39m np\u001b[38;5;241m.\u001b[39marange(\u001b[38;5;241m10\u001b[39m)\n\u001b[1;32m----> 4\u001b[0m array4 \u001b[38;5;241m=\u001b[39m arrayl\u001b[38;5;241m.\u001b[39mreshape(\u001b[38;5;241m-\u001b[39m\u001b[38;5;241m1\u001b[39m, \u001b[38;5;241m4\u001b[39m)\n",
      "\u001b[1;31mValueError\u001b[0m: cannot reshape array of size 10 into shape (4)"
     ]
    }
   ],
   "source": [
    "#10개의 1차원 데이터를 고정된 4개의 칼럼을 가진 로우로는 변경 X\n",
    "\n",
    "arrayl = np.arange(10)\n",
    "array4 = arrayl.reshape(-1, 4)"
   ]
  },
  {
   "cell_type": "code",
   "execution_count": 12,
   "id": "0eca0bd7-3bc9-4900-be90-80ebf20a4cb8",
   "metadata": {},
   "outputs": [
    {
     "name": "stdout",
     "output_type": "stream",
     "text": [
      "array3d:\n",
      " [[[0, 1], [2, 3]], [[4, 5], [6, 7]]]\n",
      "array5:\n",
      " [[0], [1], [2], [3], [4], [5], [6], [7]]\n",
      "array5 shape: (8, 1)\n",
      "array6:\n",
      " [[0], [1], [2], [3], [4], [5], [6], [7]]\n",
      "array6 shape: (8, 1)\n"
     ]
    }
   ],
   "source": [
    "#reshape(-1, 1)는 무조건 2차원, 반드시 1개의 칼럼\n",
    "\n",
    "array1 = np.arange(8)\n",
    "array3d = array1.reshape((2, 2, 2))\n",
    "print('array3d:\\n', array3d.tolist())\n",
    "\n",
    "array5 = array3d.reshape(-1, 1)\n",
    "print('array5:\\n', array5.tolist())\n",
    "print('array5 shape:', array5.shape) #3차원을 2차원으로 변환\n",
    "\n",
    "array6 = array1.reshape(-1, 1)\n",
    "print('array6:\\n', array6.tolist())\n",
    "print('array6 shape:', array6.shape) #1차원을 2차원으로 변환"
   ]
  },
  {
   "cell_type": "markdown",
   "id": "dcd617cd-4f53-40e3-8e9c-8c62876075fb",
   "metadata": {},
   "source": [
    "# 넘파이의 ndarray의 데이터 세트 선택하기 - 인덱싱(indexing)\n",
    "1. 특정 데이터만 추출\n",
    "2. 슬라이싱: 연속된 인덱스상의 ndarray 추출 ':' 기호 사용\n",
    "3. 펜시 인덱싱: 인덱싱 집합 리스트 또는 ndarray 형태로 지정해 변환\n",
    "4. 불린 인덱싱: T/F 값 인덱싱 집합을 기반으로 T에 해당하면 변환 "
   ]
  },
  {
   "cell_type": "markdown",
   "id": "788d68e8-fe9e-440f-b22a-06932e1d22dc",
   "metadata": {},
   "source": [
    "# 단일값 추출"
   ]
  },
  {
   "cell_type": "code",
   "execution_count": 13,
   "id": "6db42f3f-dbab-448b-a78e-a0e301163836",
   "metadata": {},
   "outputs": [
    {
     "name": "stdout",
     "output_type": "stream",
     "text": [
      "array1: [1 2 3 4 5 6 7 8 9]\n",
      "value: 3\n",
      "<class 'numpy.int32'>\n"
     ]
    }
   ],
   "source": [
    "#1부터 9까지의 1차원 ndarray 생성\n",
    "array1 = np.arange(1, 10)\n",
    "print('array1:', array1)\n",
    "\n",
    "#index는 0부터 시작하므로 array1[2]는 3번째 index 위치의 데이터값을 미미\n",
    "value = array1[2]\n",
    "print('value:', value)\n",
    "print(type(value))\n",
    "#array1[2]의 타입은 더 이상 ndarray 타입이 아니고 ndarray 내의 데이터값을 미미"
   ]
  },
  {
   "cell_type": "code",
   "execution_count": 14,
   "id": "6f210a74-279b-4b0f-b575-ef26e0dc1030",
   "metadata": {},
   "outputs": [
    {
     "name": "stdout",
     "output_type": "stream",
     "text": [
      "맨 뒤의 값: 9 맨 뒤에서 두번째 값: 8\n"
     ]
    }
   ],
   "source": [
    "#-기호를 이용하면 맨 뒤에서부터 추출\n",
    "\n",
    "print('맨 뒤의 값:', array1[-1], '맨 뒤에서 두번째 값:', array1[-2])"
   ]
  },
  {
   "cell_type": "code",
   "execution_count": 15,
   "id": "95ad3247-5d7c-4aee-9b4f-d990bbabbc89",
   "metadata": {},
   "outputs": [
    {
     "name": "stdout",
     "output_type": "stream",
     "text": [
      "array1: [9 2 3 4 5 6 7 8 0]\n"
     ]
    }
   ],
   "source": [
    "#단일 인덱스를 이용해 ndarray내의 데이터값 수정\n",
    "\n",
    "array1[0] = 9\n",
    "array1[8] = 0\n",
    "print('array1:', array1)"
   ]
  },
  {
   "cell_type": "code",
   "execution_count": 16,
   "id": "c372b609-e5f5-4d01-99d3-07ca04829797",
   "metadata": {},
   "outputs": [
    {
     "name": "stdout",
     "output_type": "stream",
     "text": [
      "[[1 2 3]\n",
      " [4 5 6]\n",
      " [7 8 9]]\n",
      "(row=0, col=0) index 가리키는 값: 1\n",
      "(row=0, col=1) index 가리키는 값: 2\n",
      "(row=1, col=0) index 가리키는 값: 4\n",
      "(row=2, col=2) index 가리키는 값: 9\n"
     ]
    }
   ],
   "source": [
    "#다차원 ndarray에서 단일 값 추출 (예제는 2차원)\n",
    "\n",
    "array1d = np.arange(1, 10)\n",
    "array2d = array1d.reshape(3, 3)\n",
    "print(array2d)\n",
    "\n",
    "print('(row=0, col=0) index 가리키는 값:', array2d[0,0])\n",
    "print('(row=0, col=1) index 가리키는 값:', array2d[0,1])\n",
    "print('(row=1, col=0) index 가리키는 값:', array2d[1,0])\n",
    "print('(row=2, col=2) index 가리키는 값:', array2d[2,2])"
   ]
  },
  {
   "cell_type": "markdown",
   "id": "422c4eb8-193c-4c1c-a4d7-7ae2bb24335e",
   "metadata": {},
   "source": [
    "# 슬라이싱\n",
    "':' 사이에 시작 인덱시와 종료 인덱스를 표시하면 시작 인덱스에서 종료 인덱스 -1 의 위치에 있는 데이터의 ndarray를 변환\n",
    "1. ':' 기호 앞에 시작 인덱스를 생략하면 맨 처음 인덱스 0으로 간주\n",
    "2. ':' 기호 뒤에 종료 인덱스를 생략하면 맨 마지막 인덱스로 간주\n",
    "3. ':' 기호 앞뒤로 인덱스를 생략하면 맨 처음/ 맨 마지막 인덱스로 간주"
   ]
  },
  {
   "cell_type": "code",
   "execution_count": 17,
   "id": "80a6d975-0c94-4af6-a511-2b2935672c6e",
   "metadata": {},
   "outputs": [
    {
     "name": "stdout",
     "output_type": "stream",
     "text": [
      "[1 2 3]\n",
      "<class 'numpy.ndarray'>\n"
     ]
    }
   ],
   "source": [
    "array1 = np.arange(1, 10)\n",
    "array3 = array1[0:3]\n",
    "print(array3)\n",
    "print(type(array3))"
   ]
  },
  {
   "cell_type": "code",
   "execution_count": 18,
   "id": "67cd2ec6-2fbb-42bd-9dcc-739f5b8ff905",
   "metadata": {},
   "outputs": [
    {
     "name": "stdout",
     "output_type": "stream",
     "text": [
      "[1 2 3]\n",
      "[4 5 6 7 8 9]\n",
      "[1 2 3 4 5 6 7 8 9]\n"
     ]
    }
   ],
   "source": [
    "array1 = np.arange(1, 10)\n",
    "array4 = array1[:3]\n",
    "print(array4)\n",
    "\n",
    "array5 = array1[3:]\n",
    "print(array5)\n",
    "\n",
    "array6 = array1[:]\n",
    "print(array6)"
   ]
  },
  {
   "cell_type": "code",
   "execution_count": 20,
   "id": "790f1f6c-0a2a-4b27-b8f6-fea6e8892cc8",
   "metadata": {},
   "outputs": [
    {
     "name": "stdout",
     "output_type": "stream",
     "text": [
      "array2d:\n",
      " [[1 2 3]\n",
      " [4 5 6]\n",
      " [7 8 9]]\n",
      "array2d[0:2, 0:2]\n",
      " [[1 2]\n",
      " [4 5]]\n",
      "array2d[1:3, 0:3]\n",
      " [[4 5 6]\n",
      " [7 8 9]]\n",
      "array2d[1:3, :]\n",
      " [[4 5 6]\n",
      " [7 8 9]]\n",
      "array2d[:, :]\n",
      " [[1 2 3]\n",
      " [4 5 6]\n",
      " [7 8 9]]\n",
      "array2d[:2, 1:]\n",
      " [[2 3]\n",
      " [5 6]]\n",
      "array2d[0:2, 0]\n",
      " [1 4]\n"
     ]
    }
   ],
   "source": [
    "#2차원 ndarray에서 슬라이싱 (1차원과 유사)\n",
    "\n",
    "array1d = np.arange(1, 10)\n",
    "array2d = array1d.reshape(3,3)\n",
    "print('array2d:\\n', array2d)\n",
    "\n",
    "print('array2d[0:2, 0:2]\\n', array2d[0:2, 0:2])\n",
    "print('array2d[1:3, 0:3]\\n', array2d[1:3, 0:3])\n",
    "print('array2d[1:3, :]\\n', array2d[1:3, :])\n",
    "print('array2d[:, :]\\n', array2d[:, :])\n",
    "print('array2d[:2, 1:]\\n', array2d[:2, 1:])\n",
    "print('array2d[0:2, 0]\\n', array2d[0:2, 0])"
   ]
  },
  {
   "cell_type": "code",
   "execution_count": 21,
   "id": "4633d215-9405-4471-b34e-1ac958d5b19d",
   "metadata": {},
   "outputs": [
    {
     "name": "stdout",
     "output_type": "stream",
     "text": [
      "[1 2 3]\n",
      "[4 5 6]\n",
      "array2d[0] shape: (3,) array2d[1] shape: (3,)\n"
     ]
    }
   ],
   "source": [
    "#2차원에서 뒤에 오는 인덱스를 없애면 1차원으로 반환\n",
    "\n",
    "print(array2d[0])\n",
    "print(array2d[1])\n",
    "print('array2d[0] shape:', array2d[0].shape, 'array2d[1] shape:', array2d[1].shape)"
   ]
  },
  {
   "cell_type": "markdown",
   "id": "842899f7-c972-438e-a1dd-cf6a84e1a253",
   "metadata": {},
   "source": [
    "# 펜시인덱싱\n",
    "리스트나 ndarray로 인덱싱 집합을 지정하면 해당 위치의 인덱스에 해당하는 ndarray를 변환"
   ]
  },
  {
   "cell_type": "code",
   "execution_count": 22,
   "id": "b47dbf58-74a9-4b96-b73a-8640554c8abc",
   "metadata": {},
   "outputs": [
    {
     "name": "stdout",
     "output_type": "stream",
     "text": [
      "array2d[[0, 1], 2] => [3, 6]\n",
      "array2d[[0, 1], 0:2] => [[1, 2], [4, 5]]\n",
      "array2d[[0, 1]] => [[1, 2, 3], [4, 5, 6]]\n"
     ]
    }
   ],
   "source": [
    "#2차원 ndarray에 펜시 인덱싱을 적용\n",
    "\n",
    "array1d = np.arange(1, 10)\n",
    "array2d = array1d.reshape(3,3)\n",
    "\n",
    "array3 = array2d[[0, 1], 2]\n",
    "print('array2d[[0, 1], 2] =>', array3.tolist())\n",
    "\n",
    "array4 = array2d[[0, 1], 0:2]\n",
    "print('array2d[[0, 1], 0:2] =>', array4.tolist())\n",
    "\n",
    "array5 = array2d[[0, 1]]\n",
    "print('array2d[[0, 1]] =>', array5.tolist())"
   ]
  },
  {
   "cell_type": "markdown",
   "id": "cc4a3cbc-494a-4843-9b0a-8e2a044a16a9",
   "metadata": {},
   "source": [
    "# 불린 인덱싱\n",
    "조건 필터링과 검색을 동시에 할 수 있기 때문에 매우 자주 사용됨\n",
    "단계 1.array1d>5와 같이 ndarray의 필터링 조건을 [ ]안에 기재\n",
    "단계 2. False 값은 무시하고 True에 해당하는 인덱스값만 저장\n",
    "단계 3. 저장된 인덱스 데이터 세트로 ndarray 조회"
   ]
  },
  {
   "cell_type": "code",
   "execution_count": 23,
   "id": "64017192-06a3-4eb0-815c-6e13c94e3d1a",
   "metadata": {},
   "outputs": [
    {
     "name": "stdout",
     "output_type": "stream",
     "text": [
      "array1d >  5 인덱싱 결과 값: [6 7 8 9]\n"
     ]
    }
   ],
   "source": [
    "array1d = np.arange(1, 10)\n",
    "# [ ] 안에 array1d>5 Boolean Indexing 적용\n",
    "array3 = array1d[array1d > 5]\n",
    "print('array1d >  5 인덱싱 결과 값:', array3)"
   ]
  },
  {
   "cell_type": "code",
   "execution_count": 24,
   "id": "6e6e2d5e-f7e4-47ed-be47-9bf045389c87",
   "metadata": {},
   "outputs": [
    {
     "data": {
      "text/plain": [
       "array([False, False, False, False, False,  True,  True,  True,  True])"
      ]
     },
     "execution_count": 24,
     "metadata": {},
     "output_type": "execute_result"
    }
   ],
   "source": [
    "#ndarray 객체에 조건식을 할당하면 True/False로 이뤄진 ndarray 객체 반환 / 인덱싱에 적용하면 True 값만 반환\n",
    "\n",
    "array1d > 5"
   ]
  },
  {
   "cell_type": "code",
   "execution_count": 25,
   "id": "63358b04-f3c3-4ee7-ba8b-665e6dd944ef",
   "metadata": {},
   "outputs": [
    {
     "name": "stdout",
     "output_type": "stream",
     "text": [
      "불린 인덱스로 필터링 결과: [6 7 8 9]\n"
     ]
    }
   ],
   "source": [
    "boolean_indexes = np.array([False, False, False, False, False,  True,  True,  True,  True])\n",
    "array3 = array1d[boolean_indexes]\n",
    "print('불린 인덱스로 필터링 결과:', array3)"
   ]
  },
  {
   "cell_type": "code",
   "execution_count": 26,
   "id": "22d60e81-e3c8-4c20-90ed-41963a3f2bcf",
   "metadata": {},
   "outputs": [
    {
     "name": "stdout",
     "output_type": "stream",
     "text": [
      "일반 인덱스로 필터링 결과: [6 7 8 9]\n"
     ]
    }
   ],
   "source": [
    "indexes = np.array([5, 6, 7, 8])\n",
    "array4 = array1d[indexes]\n",
    "print('일반 인덱스로 필터링 결과:', array4)"
   ]
  },
  {
   "cell_type": "markdown",
   "id": "db932261-b9f0-4b49-960f-1d2a9745c24a",
   "metadata": {},
   "source": [
    "# 행렬의 정렬 - sort()와 argsort()"
   ]
  },
  {
   "cell_type": "markdown",
   "id": "1c572d20-87ea-49ed-b271-125445a1e51b",
   "metadata": {},
   "source": [
    "# 행렬 정렬\n",
    "np.sort() 와 같이 넘파이에서 sort()를 호출하는 방식: 원 행렬 유지, 원 행렬의 정렬된 행렬 반환\n",
    "ndarray.sort()와 같이 행렬 자체에서 sort()를 호출하는 방식: 원 행렬 자체를 정렬한 형태로 반환, 반환값은 NONE"
   ]
  },
  {
   "cell_type": "code",
   "execution_count": 27,
   "id": "3c071525-cba3-4c40-8e86-f41ab7bae5da",
   "metadata": {},
   "outputs": [
    {
     "name": "stdout",
     "output_type": "stream",
     "text": [
      "원본 행렬: [3 1 9 5]\n",
      "np.sort() 호출 후 반환된 정렬 행렬: [1 3 5 9]\n",
      "np.sort() 호출 후 원본 행렬: [3 1 9 5]\n",
      "org_array.sort() 후 반환된 정렬 행렬: None\n",
      "org_array.sort() 후 원본 행렬: [1 3 5 9]\n"
     ]
    }
   ],
   "source": [
    "org_array = np.array([3, 1, 9, 5])\n",
    "print('원본 행렬:', org_array)\n",
    "\n",
    "#np.sort()로 정렬\n",
    "sort_array1 = np.sort(org_array)\n",
    "print('np.sort() 호출 후 반환된 정렬 행렬:', sort_array1)\n",
    "print('np.sort() 호출 후 원본 행렬:', org_array)\n",
    "\n",
    "#ndarray.sort()로 정렬\n",
    "sort_array2 = org_array.sort()\n",
    "print('org_array.sort() 후 반환된 정렬 행렬:', sort_array2)\n",
    "print('org_array.sort() 후 원본 행렬:', org_array)"
   ]
  },
  {
   "cell_type": "code",
   "execution_count": 28,
   "id": "d0fcf918-9d20-4afd-adf1-d8f155ff1310",
   "metadata": {},
   "outputs": [
    {
     "name": "stdout",
     "output_type": "stream",
     "text": [
      "내림차순으로 정렬: [9 5 3 1]\n"
     ]
    }
   ],
   "source": [
    "#내림차순 정렬\n",
    "\n",
    "sort_array1_desc = np.sort(org_array)[::-1]\n",
    "print('내림차순으로 정렬:', sort_array1_desc)"
   ]
  },
  {
   "cell_type": "code",
   "execution_count": 29,
   "id": "737e4707-d3bf-4d63-b762-3d9aff851b4a",
   "metadata": {},
   "outputs": [
    {
     "name": "stdout",
     "output_type": "stream",
     "text": [
      "로우 방향으로 정렬:\n",
      " [[ 7  1]\n",
      " [ 8 12]]\n",
      "칼럼 방향으로 정렬:\n",
      " [[ 8 12]\n",
      " [ 1  7]]\n"
     ]
    }
   ],
   "source": [
    "#행렬이 2차원 이상인 경우 axis 축 값을 설정하여 행 방향 또는 열 방향으로 정렬\n",
    "\n",
    "array2d = np.array([[8, 12],\n",
    "                    [7, 1]])\n",
    "sort_array2d_axis0 = np.sort(array2d, axis = 0)\n",
    "print('로우 방향으로 정렬:\\n', sort_array2d_axis0)\n",
    "\n",
    "sort_array2d_axis1 = np.sort(array2d, axis = 1)\n",
    "print('칼럼 방향으로 정렬:\\n', sort_array2d_axis1)"
   ]
  },
  {
   "cell_type": "markdown",
   "id": "060782e4-d8b7-44ec-b0bd-00c7110ce50c",
   "metadata": {},
   "source": [
    "# 정렬된 행렬의 인덱스를 반환하기\n",
    "원본 행렬이 정렬되었을 때 기본 원본 행렬의 원소에 대한 인덱스를 필요로 할 때 np.argsort()를 이용\n",
    "정렬행렬의 원본 행렬 인덱스를 ndarray 형으로 반환"
   ]
  },
  {
   "cell_type": "code",
   "execution_count": 30,
   "id": "f0de7a62-e436-44a7-84e4-670720580e78",
   "metadata": {},
   "outputs": [
    {
     "name": "stdout",
     "output_type": "stream",
     "text": [
      "<class 'numpy.ndarray'>\n",
      "행렬 정렬 시 원본 행렬의 인덱스: [1 0 3 2]\n"
     ]
    }
   ],
   "source": [
    "#np.argsort()\n",
    "\n",
    "org_array = np.array([3, 1, 9, 5])\n",
    "sort_indices = np.argsort(org_array)\n",
    "print(type(sort_indices))\n",
    "print('행렬 정렬 시 원본 행렬의 인덱스:', sort_indices)"
   ]
  },
  {
   "cell_type": "code",
   "execution_count": 31,
   "id": "cc80c977-eb7d-4898-97d6-8cf00e9a7aa1",
   "metadata": {},
   "outputs": [
    {
     "name": "stdout",
     "output_type": "stream",
     "text": [
      "행렬 내림차순 정렬 시 원본 행렬의 인덱스: [2 3 0 1]\n"
     ]
    }
   ],
   "source": [
    "#내림차순\n",
    "\n",
    "org_array = np.array([3, 1, 9, 5])\n",
    "sort_indices_desc = np.argsort(org_array)[::-1]\n",
    "print('행렬 내림차순 정렬 시 원본 행렬의 인덱스:', sort_indices_desc)"
   ]
  },
  {
   "cell_type": "code",
   "execution_count": 32,
   "id": "7be04817-283f-4381-b0b3-3e5f6ec6c765",
   "metadata": {},
   "outputs": [
    {
     "name": "stdout",
     "output_type": "stream",
     "text": [
      "성적 오름차순 정렬 시 score_array의 인덱스: [0 2 4 1 3]\n",
      "성적 오름차순으로 name_array의 이름 출력: ['John' 'Sarah' 'Samuel' 'Mike' 'Kate']\n"
     ]
    }
   ],
   "source": [
    "#np.argsort(score_array)를 이용해 반환된 인덱스를 name_array에 펜시 인덱스로 적용해 추출\n",
    "\n",
    "import numpy as np\n",
    "\n",
    "name_array = np.array(['John', 'Mike', 'Sarah', 'Kate', 'Samuel'])\n",
    "score_array = np.array([78, 95, 84, 98, 88])\n",
    "\n",
    "sort_indices_asc = np.argsort(score_array)\n",
    "print('성적 오름차순 정렬 시 score_array의 인덱스:', sort_indices_asc)\n",
    "print('성적 오름차순으로 name_array의 이름 출력:', name_array[sort_indices_asc])"
   ]
  },
  {
   "cell_type": "markdown",
   "id": "2b76d927-bc9f-444f-8484-ca9b44532ad0",
   "metadata": {},
   "source": [
    "# 선형대수 연산 - 행렬 내적과 전치 행렬 구기기"
   ]
  },
  {
   "cell_type": "markdown",
   "id": "92fbaca8-55a3-4c97-884a-16fd998414c5",
   "metadata": {},
   "source": [
    "# 행렬 내적(행렬곱)\n",
    "왼쪽 행렬의 열 개수와 오른쪽 행렬의 행 개수가 동일해야 내적 연산이 가능"
   ]
  },
  {
   "cell_type": "code",
   "execution_count": 33,
   "id": "c3bcfde6-a82b-417a-9030-6cc88c8e833a",
   "metadata": {},
   "outputs": [
    {
     "name": "stdout",
     "output_type": "stream",
     "text": [
      "행렬 내적 결과:\n",
      " [[ 58  64]\n",
      " [139 154]]\n"
     ]
    }
   ],
   "source": [
    "#np.dot()\n",
    "\n",
    "A = np.array([[1, 2, 3],\n",
    "              [4, 5, 6]])\n",
    "B = np.array([[7, 8],\n",
    "              [9, 10],\n",
    "              [11, 12]])\n",
    "\n",
    "dot_product = np.dot(A, B)\n",
    "print('행렬 내적 결과:\\n', dot_product)"
   ]
  },
  {
   "cell_type": "markdown",
   "id": "b55156cf-71bb-410d-8905-4f1bd84e3cb6",
   "metadata": {},
   "source": [
    "# 전치행렬"
   ]
  },
  {
   "cell_type": "code",
   "execution_count": 34,
   "id": "d94453e9-90ed-45a1-bdf2-9637c9396cd6",
   "metadata": {},
   "outputs": [
    {
     "name": "stdout",
     "output_type": "stream",
     "text": [
      "A의 전치 행렬:\n",
      " [[1 3]\n",
      " [2 4]]\n"
     ]
    }
   ],
   "source": [
    "#transpose()\n",
    "\n",
    "A = np.array([[1, 2],\n",
    "              [3, 4]])\n",
    "transpose_mat = np.transpose(A)\n",
    "print('A의 전치 행렬:\\n', transpose_mat)"
   ]
  }
 ],
 "metadata": {
  "kernelspec": {
   "display_name": "Python 3",
   "language": "python",
   "name": "python3"
  },
  "language_info": {
   "codemirror_mode": {
    "name": "ipython",
    "version": 3
   },
   "file_extension": ".py",
   "mimetype": "text/x-python",
   "name": "python",
   "nbconvert_exporter": "python",
   "pygments_lexer": "ipython3",
   "version": "3.12.7"
  }
 },
 "nbformat": 4,
 "nbformat_minor": 5
}
