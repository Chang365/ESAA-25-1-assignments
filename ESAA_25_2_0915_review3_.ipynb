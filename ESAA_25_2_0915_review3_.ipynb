{
  "nbformat": 4,
  "nbformat_minor": 0,
  "metadata": {
    "colab": {
      "provenance": [],
      "authorship_tag": "ABX9TyNNkb9SWBXOZdht2lXDYsEE",
      "include_colab_link": true
    },
    "kernelspec": {
      "name": "python3",
      "display_name": "Python 3"
    },
    "language_info": {
      "name": "python"
    }
  },
  "cells": [
    {
      "cell_type": "markdown",
      "metadata": {
        "id": "view-in-github",
        "colab_type": "text"
      },
      "source": [
        "<a href=\"https://colab.research.google.com/github/Chang365/ESAA-25-1-assignments/blob/main/ESAA_25_2_0915_review3_.ipynb\" target=\"_parent\"><img src=\"https://colab.research.google.com/assets/colab-badge.svg\" alt=\"Open In Colab\"/></a>"
      ]
    },
    {
      "cell_type": "markdown",
      "source": [
        "# Google Landmark Retrieval 2020\n",
        "\n",
        "- 목표: 랜드마크(기념물, 유명 건축물 등)의 이미지들을 보고, 동일한 랜드마크인지 여부를 잘 판단하게 모델을 만드는 것. 즉, 대규모 이미지 검색(retrieval) 과제.\n",
        "평가 지표는 mAP@100 (mean Average Precision at 100)\n",
        "\n",
        "- 데이터 & 특성\n",
        "    - 여러 국가의 랜드마크 이미지가 있음. 다양한 조명, 각도, 배경, 날씨 변화가 존재\n",
        "arXiv\n",
        "    - 클래스 수 많고, 데이터 불균형(class imbalance) 큼 (일부 랜드마크는 사진이 많고, 일부는 적음)\n",
        "arXiv\n",
        "\n",
        "     - 노이즈(quality 낮은 이미지, 잘못 레이블된 이미지) 존재함.\n",
        "\n",
        "- 상위 솔루션\n",
        "1. 모델 아키텍처 / 전이 학습 (Transfer Learning)\n",
        "\n",
        "   - 사전 학습된 CNN 백본(backbone) 사용 (이미 알려진 이미지넷 형 모델)\n",
        "arXiv\n",
        "\n",
        "   - 높은 해상도의 입력 이미지 사용 → 세부적인 특징(feature) 학습 가능하게 함\n",
        "arXiv\n",
        "\n",
        "2. Metric Learning / 거리 기반 학습 방식\n",
        "\n",
        "    - 단순한 분류(classification) 방식보다 “비슷한 이미지끼리 가까이, 다른 랜드마크면 멀게” 하도록 학습하도록 함.\n",
        "\n",
        "     - Triplet loss, 혹은 다른 embedding 거리 손실(loss function) 사용해서 이미지 임베딩(embed) 공간 만드는 작업 강조됨\n",
        "\n",
        "3. 데이터 클리닝 & 노이즈 처리\n",
        "\n",
        "     - 노이즈가 있는 이미지 (잘못된 레이블, 오염된 이미지 등)를 필터링하는 과정 있음\n",
        "\n",
        "\n",
        "     - 깨끗한 샘플에 더 비중을 두는 weighting 전략 적용됨.\n",
        "\n",
        "\n",
        "4. 앙상블 및 재순위화 (Re-ranking)\n",
        "\n",
        "    - 여러 모델을 앙상블해서 예측 결과 안정화\n",
        "\n",
        "    - retrieval 결과로 top-k candidate들을 뽑은 뒤, 추가 재순위화(re-ranking) 혹은 거리 기반 보정 작업 수행하여 최종 순위 개선\n",
        "\n",
        "\n",
        "5. 클래스 불균형 + 노이즈 대응\n",
        "\n",
        "   - 클래스 수가 많고 희귀 클래스(사진이 적은 랜드마크)가 많아서, loss weighting, 샘플 증강(augment), 또는 데이터 확장(data augmentation) 전략을 썼음\n",
        "\n",
        "- 차별점 및 인사이트\n",
        "\n",
        "Retrieval 문제라서 단순 분류보다 embedding quality가 중요 → 유사도 측정, 거리 기반 판단, ranking 등이 전체 성능에 지대한 영향\n",
        "\n",
        "고해상도 이미지 + 좋은 백본의 조합이 임베딩의 질을 많이 끌어올림\n",
        "\n",
        "노이즈 관리가 매우 중요함. 데이터 레이블 오류나 품질 낮은 이미지가 많으면 embedding 공간이 왜곡됨\n",
        "\n",
        "**후처리 및 순위 조정 (re-ranking)**이 소폭이지만 실질적 성능 개선을 가져다줌"
      ],
      "metadata": {
        "id": "y0DdTG0yr68Q"
      }
    },
    {
      "cell_type": "code",
      "execution_count": null,
      "metadata": {
        "id": "Gvg7AKqIr1OR"
      },
      "outputs": [],
      "source": []
    }
  ]
}