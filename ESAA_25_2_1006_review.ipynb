{
  "nbformat": 4,
  "nbformat_minor": 0,
  "metadata": {
    "colab": {
      "provenance": [],
      "authorship_tag": "ABX9TyPLslnVPfYjsoI2tQlpr6qZ",
      "include_colab_link": true
    },
    "kernelspec": {
      "name": "python3",
      "display_name": "Python 3"
    },
    "language_info": {
      "name": "python"
    }
  },
  "cells": [
    {
      "cell_type": "markdown",
      "metadata": {
        "id": "view-in-github",
        "colab_type": "text"
      },
      "source": [
        "<a href=\"https://colab.research.google.com/github/Chang365/ESAA-25-1-assignments/blob/main/ESAA_25_2_1006_review.ipynb\" target=\"_parent\"><img src=\"https://colab.research.google.com/assets/colab-badge.svg\" alt=\"Open In Colab\"/></a>"
      ]
    },
    {
      "cell_type": "markdown",
      "source": [
        "# 대회명: Riiid! Answer Correctness Prediction (Kaggle)\n",
        "\n",
        "## 목표: 학생들이 문제를 풀 때, 주어진 문항에 대해 정답 여부를 예측하는 문제. 즉, 시퀀스 형태의 교육 데이터 (학생별 과거 응답, 시간 정보 등)를 보고 다음에 맞출 확률을 예측하는 이진 분류 과제\n",
        "\n",
        "## 주요 데이터 특성과 난제\n",
        "\n",
        "- 입력으로 학생의 과거 응답 이력, 각 문항의 속성(feature), 응답 시간 정보 등이 포함\n",
        "- **시간 흐름 정보(time dependency)**가 매우 중요  학생이 언제 풀었는지, 문제 간의 간격, 누적 학습 효과 등이 성능에 영향\n",
        "- 불균형 또는 패턴 다양성 문제: 어떤 문제는 많은 학생이 맞추고, 어떤 문제는 틀리는 경우 많음\n",
        "- 다양한 학생 행동 패턴 존재 → 학생마다 학습 속도, 오답 패턴 등이 다름\n",
        "\n",
        "## 4위 솔루션의 전략 요약\n",
        "1. 모델 아키텍처:Transformer 기반 모델 사용 — 과거 응답 시퀀스를 자연스럽게 처리할 수 있게 함\n",
        "2. time-aware attention: 시간 정보를 단순 피처로 주는 게 아니라 attention 메커니즘 안에서 시간 가중치를 반영 → 시간 간격이 멀면 관련성이 낮게 반영되도록 설계됨\n",
        "3. 연속형 피처 임베딩: 단순히 범주형 임베딩 + 숫자 입력을 섞는 대신, continuous feature들을 embedding vector와 concatenate 해서, 모델 내부 표현력 강화함\n",
        "4. 검증 및 앙상블: cross-validation + leaderboard 간 격차 줄이기 전략 적용\n",
        "여러 시드(seed) 실험 혹은 모델 렌즈 조합을 통해 앙상블 성능 확보함\n",
        "\n",
        "## 성과 및 인사이트\n",
        "\n",
        "- AUC 약 0.817을 기록하면서 대회 4위\n",
        "- 시간을 반영한 attention 구조가 핵심 차별점이었고, 단순 시퀀스 모델보다 더 복합적 패턴을 잘 잡아냈음\n",
        "- 단일 모델로도 강력했지만, 앙상블 + 실험적 튜닝이 최적화 성능까지 끌어올리는 데 중요했음"
      ],
      "metadata": {
        "id": "xXJl70AJZ7ac"
      }
    },
    {
      "cell_type": "code",
      "execution_count": null,
      "metadata": {
        "id": "ebRWfxy7Z0ly"
      },
      "outputs": [],
      "source": []
    }
  ]
}