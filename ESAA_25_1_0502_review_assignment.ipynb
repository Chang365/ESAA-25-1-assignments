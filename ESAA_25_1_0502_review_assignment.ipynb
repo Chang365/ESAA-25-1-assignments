{
  "nbformat": 4,
  "nbformat_minor": 0,
  "metadata": {
    "colab": {
      "provenance": [],
      "authorship_tag": "ABX9TyOK20fb8KaQAVRBG8UqKYhn",
      "include_colab_link": true
    },
    "kernelspec": {
      "name": "python3",
      "display_name": "Python 3"
    },
    "language_info": {
      "name": "python"
    }
  },
  "cells": [
    {
      "cell_type": "markdown",
      "metadata": {
        "id": "view-in-github",
        "colab_type": "text"
      },
      "source": [
        "<a href=\"https://colab.research.google.com/github/Chang365/ESAA-25-1-assignments/blob/main/ESAA_25_1_0502_review_assignment.ipynb\" target=\"_parent\"><img src=\"https://colab.research.google.com/assets/colab-badge.svg\" alt=\"Open In Colab\"/></a>"
      ]
    },
    {
      "cell_type": "markdown",
      "source": [
        "# **수상작 리뷰 보고서**\n",
        "\n",
        "##  주제 및 데이터\n",
        "### 대회명: Exploring Mental Health Data (Playground Series - Season 4, Episode 11)\n",
        "\n",
        "### 대회 주제\n",
        "정신 건강 관련 데이터(설문조사 형식)를 통해\n",
        "정신적 어려움을 겪고 있는지를 예측\n",
        "\n",
        "\n",
        "### 데이터\n",
        "\n",
        "1. features: 연령, 직업군, 근무형태, 정신건강 서비스 이용 여부 등 설문 기반\n",
        "\n",
        "2. target: 정신 건강 문제 여부 (1 또는 0)\n",
        "\n",
        "3. train/test split 되어 있음\n",
        "\n",
        "---\n",
        "\n",
        "\n",
        "\n",
        "\n"
      ],
      "metadata": {
        "id": "DoEFlDGafIGq"
      }
    },
    {
      "cell_type": "markdown",
      "source": [
        "## 코드 흐름 요약\n",
        "### (1) EDA (탐색적 분석)\n",
        "\n",
        "범주형 변수 분포 시각화 (ex. 성별, 근무형태, remote 여부)\n",
        "\n",
        "타겟 변수와의 관계 탐색 (ex. 정신건강 문제는 재택근무자에게 더 많음)\n",
        "\n",
        "결측치 확인 → 간단한 시각화와 수치 기반 비교\n",
        "\n",
        "### (2) Feature Engineering & Processing\n",
        "\n",
        "범주형 변수 Label Encoding 적용\n",
        "\n",
        "Age 구간을 나누어 나이대 파생변수 생성\n",
        "\n",
        "정신건강 서비스 이용 경험 여부 파생변수 생성\n",
        "\n",
        "필요 없는 변수 제거 (ID, 중복 컬럼)\n",
        "\n",
        "### (3) Modeling\n",
        "\n",
        "RidgeClassifier + StratifiedKFold 교차검증\n",
        "\n",
        "앙상블 방식:\n",
        "\n",
        "여러 random_state로 모델 훈련\n",
        "\n",
        "예측 결과 평균 → soft voting\n",
        "\n",
        "### (4) 평가 및 제출\n",
        "\n",
        "정확도 기준으로 평가\n",
        "\n",
        "교차 검증 평균 score: 약 0.94\n",
        "\n",
        "---\n",
        "\n",
        "## 차별점 및 배운 점\n",
        "\n",
        "* 간단한 모델(Ridge)을 여러 방식으로 앙상블하여 성능 극대화\n",
        "\n",
        "* 복잡한 모델(XGBoost 등) 없이도 데이터 전처리와 교차검증만 잘해도 좋은 성능 가능\n",
        "\n",
        "* Ridge는 속도가 빠르고 과적합 위험이 적어 소규모 데이터에 효과적임\n",
        "\n",
        "* EDA → 단순 모델 → 앙상블까지의 흐름 GOOD"
      ],
      "metadata": {
        "id": "AlpbX4c7fYAG"
      }
    }
  ]
}