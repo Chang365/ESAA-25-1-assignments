{
  "nbformat": 4,
  "nbformat_minor": 0,
  "metadata": {
    "colab": {
      "provenance": [],
      "authorship_tag": "ABX9TyMB8WS4EiJup01yHlMBNRTO",
      "include_colab_link": true
    },
    "kernelspec": {
      "name": "python3",
      "display_name": "Python 3"
    },
    "language_info": {
      "name": "python"
    }
  },
  "cells": [
    {
      "cell_type": "markdown",
      "metadata": {
        "id": "view-in-github",
        "colab_type": "text"
      },
      "source": [
        "<a href=\"https://colab.research.google.com/github/Chang365/ESAA-25-1-assignments/blob/main/ESAA_25_1_0516_review3.ipynb\" target=\"_parent\"><img src=\"https://colab.research.google.com/assets/colab-badge.svg\" alt=\"Open In Colab\"/></a>"
      ]
    },
    {
      "cell_type": "markdown",
      "source": [
        "# 수상작 리뷰 보고서 (3)\n",
        "- 대회명: Binary Classification of Insurance Cross Selling (Playground Series - S4E7)\n",
        "- 수상작 노트북: Top 9% Solution - LGBM + CatBoost 앙상블\n",
        "\n",
        "## 주제 및 데이터\n",
        "- 목표: 고객의 특성을 기반으로 자동차 보험 상품의 교차 판매 성공 여부를 예측하는 이진 분류 문제\n",
        "- 데이터 구성\n",
        "\n",
        "    - train.csv, test.csv\n",
        "\n",
        "    - 주요 특성: 연령, 직업, 주거 지역, 차량 소유 여부, 이전 보험 가입 여부 등\n",
        "\n",
        "    - 목표 변수: response (1: 구매, 0: 미구매)\n",
        "\n",
        "## 코드 흐름 요약\n",
        "(1) EDA\n",
        "- 범주형 변수와 타겟 변수 간의 관계 시각화\n",
        "- 결측치 및 이상치 확인 및 처리\n",
        "(2) Feature Engineering\n",
        "- 범주형 변수에 대한 Label Encoding 및 One-Hot Encoding 적용\n",
        "- 파생 변수 생성: 예를 들어, 연령대를 그룹화하여 새로운 변수 생성\n",
        "(3) 모델링\n",
        "- LightGBM과 CatBoost 모델을 사용하여 앙상블 구성\n",
        "- Stratified K-Fold 교차검증을 통해 모델의 일반화 성능 향상\n",
        "- 두 모델의 예측 결과를 평균하여 최종 예측값 도출\n",
        "(4) 평가 및 제출\n",
        "- 평가 지표: ROC AUC Score\n",
        "- 교차검증 평균 점수: 약 0.94\n",
        "- 최종 결과: Private Leaderboard 기준 상위 9% 달성\n",
        "\n",
        "## 차별점 및 인사이트\n",
        "- 다양한 인코딩 기법을 활용하여 범주형 변수 처리\n",
        "- 앙상블 기법을 통해 개별 모델보다 안정적인 성능 확보\n",
        "- Stratified K-Fold 교차검증을 통해 데이터 불균형 문제 완화\n",
        "- 실제 보험 상품 마케팅 전략 수립에 활용 가능한 모델 구조"
      ],
      "metadata": {
        "id": "1inVIdnf7Y0z"
      }
    }
  ]
}